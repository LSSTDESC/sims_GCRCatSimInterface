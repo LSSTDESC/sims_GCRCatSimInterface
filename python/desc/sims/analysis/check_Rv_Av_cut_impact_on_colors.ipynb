{
 "cells": [
  {
   "cell_type": "code",
   "execution_count": 1,
   "metadata": {},
   "outputs": [],
   "source": [
    "%matplotlib inline\n",
    "morange = u'#ff7f0e'\n",
    "mblue = u'#1f77b4'\n",
    "mgreen = u'#2ca02c'\n",
    "mred = u'#d62728'\n",
    "mpurple = u'#9467bd'\n",
    "from matplotlib import pyplot as plt\n",
    "import numpy as np \n",
    "import h5py\n"
   ]
  },
  {
   "cell_type": "code",
   "execution_count": null,
   "metadata": {},
   "outputs": [],
   "source": []
  },
  {
   "cell_type": "code",
   "execution_count": 4,
   "metadata": {},
   "outputs": [
    {
     "name": "stdout",
     "output_type": "stream",
     "text": [
      "['redshift', 'mstar', 'disk_g', 'disk_i', 'disk_r', 'disk_u', 'disk_y', 'disk_z', 'bulge_g', 'bulge_i', 'bulge_r', 'bulge_u', 'bulge_y', 'bulge_z', 'total_g', 'total_i', 'total_r', 'total_u', 'total_y', 'total_z', 'disk_B_rest', 'disk_B_rest_dust', 'disk_V_rest', 'disk_V_rest_dust', 'bulge_B_rest', 'bulge_B_rest_dust', 'bulge_V_rest', 'bulge_V_rest_dust', 'total_B_rest', 'total_B_rest_dust', 'total_V_rest', 'total_V_rest_dust']\n"
     ]
    }
   ],
   "source": [
    "from astropy.table import Table\n",
    "mock = Table()\n",
    "\n",
    "import os\n",
    "dktdir = \"/global/projecta/projectdirs/lsst/groups/CS/cosmoDC2\"\n",
    "dirname = os.path.join(dktdir, \"cosmoDC2_v1.0.0\")\n",
    "basename = \"z_0_1.step_all.healpix_564.hdf5\"\n",
    "\n",
    "with h5py.File(os.path.join(dirname, basename)) as f:\n",
    "    mock['redshift'] = f['galaxyProperties/redshift'].value\n",
    "    mock['mstar'] = f['galaxyProperties/totalMassStellar'].value\n",
    "\n",
    "    keys_to_keep = list(\n",
    "        key for key in f['galaxyProperties/LSST_filters'].keys() \n",
    "        if 'observed:dustAtlas' in key and 'magnitude' not in key)\n",
    "    keys_to_keep2 = list(key for key in f['galaxyProperties/otherLuminosities'].keys() \n",
    "                            if 'Lyc' not in key)\n",
    "    for key in keys_to_keep:\n",
    "        mock[key] = f['galaxyProperties/LSST_filters'+'/'+key].value\n",
    "    for key in keys_to_keep2:\n",
    "        mock[key] = f['galaxyProperties/otherLuminosities'+'/'+key].value\n",
    "\n",
    "for key in mock.keys():\n",
    "    newkey = key.replace(':LSST', '')\n",
    "    newkey = newkey.replace('LuminositiesStellar', '')\n",
    "    newkey = newkey.replace('observed:dustAtlas', '')\n",
    "    newkey = newkey.replace('spheroid', 'bulge')\n",
    "    newkey = newkey.replace(':B:', '_B_')\n",
    "    newkey = newkey.replace(':V:', '_V_')\n",
    "    newkey = newkey.replace('rest:dustAtlas', 'rest_dust')\n",
    "    newkey = newkey.replace(':', '')\n",
    "    mock.rename_column(key, newkey)\n",
    "print(mock.keys())"
   ]
  },
  {
   "cell_type": "code",
   "execution_count": null,
   "metadata": {},
   "outputs": [],
   "source": []
  },
  {
   "cell_type": "code",
   "execution_count": 5,
   "metadata": {},
   "outputs": [],
   "source": [
    "def _calc_Rv(lum_v, lum_v_dust, lum_b, lum_b_dust): #Rv definition with best behavior\n",
    "    with np.errstate(divide='ignore', invalid='ignore'):\n",
    "        Av = -2.5*np.log10(lum_v_dust) + 2.5*np.log10(lum_v)\n",
    "        Ab = -2.5*np.log10(lum_b_dust) + 2.5*np.log10(lum_b)\n",
    "        Ebv = -2.5*np.log10(lum_b_dust) + 2.5*np.log10(lum_b) - 2.5*np.log10(lum_v_dust) + 2.5*np.log10(lum_v)\n",
    "        Rv = Av / Ebv\n",
    "        Rv[(Av == 0) & (Ab == 0)] = 1.0\n",
    "        #remove remaining nans and infs for image sims\n",
    "        mask = np.isfinite(Rv)\n",
    "        r = np.random.RandomState(43) # for reproduceability\n",
    "        Rv[~mask] = r.uniform(1.0, 5.0, np.count_nonzero(~mask))\n",
    "        return Rv\n",
    "\n",
    "\n",
    "def _calc_Av(lum_v, lum_v_dust):\n",
    "    with np.errstate(divide='ignore', invalid='ignore'):\n",
    "        Av = -2.5*(np.log10(lum_v_dust/lum_v))\n",
    "        Av[lum_v==0] = 0.\n",
    "        return Av\n",
    "\n",
    "mock['total_Rv'] = _calc_Rv(mock['total_V_rest'], mock['total_V_rest_dust'],\n",
    "             mock['total_B_rest'], mock['total_B_rest_dust'])\n",
    "mock['bulge_Rv'] = _calc_Rv(mock['bulge_V_rest'], mock['bulge_V_rest_dust'],\n",
    "                 mock['bulge_B_rest'], mock['bulge_B_rest_dust'])\n",
    "mock['disk_Rv'] = _calc_Rv(mock['disk_V_rest'], mock['disk_V_rest_dust'],\n",
    "                 mock['disk_B_rest'], mock['disk_B_rest_dust'])\n",
    "mock['total_Av'] = _calc_Av(mock['total_V_rest'], mock['total_V_rest_dust'])\n",
    "mock['disk_Av'] = _calc_Av(mock['disk_V_rest'], mock['disk_V_rest_dust'])\n",
    "mock['bulge_Av'] = _calc_Av(mock['bulge_V_rest'], mock['bulge_V_rest_dust'])\n"
   ]
  },
  {
   "cell_type": "code",
   "execution_count": 6,
   "metadata": {},
   "outputs": [
    {
     "data": {
      "text/plain": [
       "(18986309, 31905158)"
      ]
     },
     "execution_count": 6,
     "metadata": {},
     "output_type": "execute_result"
    }
   ],
   "source": [
    "np.count_nonzero(mock['bulge_V_rest'] == mock['bulge_V_rest_dust']), len(mock['bulge_V_rest'])"
   ]
  },
  {
   "cell_type": "code",
   "execution_count": 20,
   "metadata": {},
   "outputs": [
    {
     "name": "stdout",
     "output_type": "stream",
     "text": [
      "-0.0194128 0.15160880883272856\n",
      "0.0 0.0\n",
      "-0.0214153 0.19388024970758647\n"
     ]
    }
   ],
   "source": [
    "print(np.min(mock['total_Av']), np.count_nonzero(mock['total_Av']<0)/float(len(mock['bulge_V_rest'])))\n",
    "print(np.min(mock['bulge_Av']), np.count_nonzero(mock['bulge_Av']<0)/float(len(mock['bulge_V_rest'])))\n",
    "print(np.min(mock['disk_Av']), np.count_nonzero(mock['disk_Av']<0)/float(len(mock['bulge_V_rest'])))"
   ]
  },
  {
   "cell_type": "code",
   "execution_count": 5,
   "metadata": {},
   "outputs": [],
   "source": [
    "z0, z1, z2, z3 = 0.35, 0.6, 0.8, 1.1\n",
    "z0_mask = mock['redshift'] < z0\n",
    "z1_mask = (mock['redshift'] >= z0) & (mock['redshift'] < z1)\n",
    "z2_mask = (mock['redshift'] >= z1) & (mock['redshift'] < z2)\n",
    "z3_mask = (mock['redshift'] >= z2) & (mock['redshift'] < z3)\n"
   ]
  },
  {
   "cell_type": "code",
   "execution_count": 22,
   "metadata": {},
   "outputs": [
    {
     "name": "stdout",
     "output_type": "stream",
     "text": [
      "-5801.0 0.1284641812461797\n",
      "0.0 0.06457516994587521\n",
      "-3430.0 0.132520735361975\n"
     ]
    }
   ],
   "source": [
    "print(np.min(mock['total_Rv']), np.count_nonzero(mock['total_Rv']<0.1)/float(len(mock['bulge_V_rest'])))\n",
    "print(np.min(mock['bulge_Rv']), np.count_nonzero(mock['bulge_Rv']<0.1)/float(len(mock['bulge_V_rest'])))\n",
    "print(np.min(mock['disk_Rv']), np.count_nonzero(mock['disk_Rv']<0.1)/float(len(mock['bulge_V_rest'])))"
   ]
  },
  {
   "cell_type": "code",
   "execution_count": 27,
   "metadata": {},
   "outputs": [
    {
     "name": "stdout",
     "output_type": "stream",
     "text": [
      "0.0\n",
      "0.0\n",
      "2.5074315569915057e-07\n"
     ]
    }
   ],
   "source": [
    "print(np.count_nonzero((mock['total_Av']>1) & (mock['total_Rv']<0.1))/float(len(mock['bulge_V_rest'])))\n",
    "print(np.count_nonzero((mock['bulge_Av']>1) & (mock['bulge_Rv']<0.1))/float(len(mock['bulge_V_rest'])))\n",
    "print(np.count_nonzero((mock['disk_Av']>1) & (mock['disk_Rv']<0.1))/float(len(mock['bulge_V_rest'])))"
   ]
  },
  {
   "cell_type": "code",
   "execution_count": 27,
   "metadata": {},
   "outputs": [
    {
     "name": "stdout",
     "output_type": "stream",
     "text": [
      "0.0\n",
      "0.0\n",
      "2.5074315569915057e-07\n"
     ]
    }
   ],
   "source": [
    "print(np.count_nonzero((mock['total_Av']>1) & (mock['total_Rv']>=0.1))/float(len(mock['bulge_V_rest'])))\n",
    "print(np.count_nonzero((mock['bulge_Av']>1) & (mock['bulge_Rv']<0.1))/float(len(mock['bulge_V_rest'])))\n",
    "print(np.count_nonzero((mock['disk_Av']>1) & (mock['disk_Rv']<0.1))/float(len(mock['bulge_V_rest'])))"
   ]
  },
  {
   "cell_type": "code",
   "execution_count": 6,
   "metadata": {},
   "outputs": [],
   "source": [
    "from scipy.stats import binned_statistic\n",
    "logsm_bins = np.linspace(6, 12.5, 25)\n",
    "logsm_mids = 0.5*(logsm_bins[:-1] + logsm_bins[1:])\n"
   ]
  },
  {
   "cell_type": "code",
   "execution_count": 7,
   "metadata": {},
   "outputs": [],
   "source": [
    "clip = 0.0\n",
    "\n",
    "frac_av_clip_total_z0, __, __ = binned_statistic(\n",
    "    np.log10(mock['mstar'][z0_mask]), mock['total_Av'][z0_mask]<clip, \n",
    "    statistic='mean', bins=logsm_bins)\n",
    "frac_av_clip_total_z1, __, __ = binned_statistic(\n",
    "    np.log10(mock['mstar'][z1_mask]), mock['total_Av'][z1_mask]<clip, \n",
    "    statistic='mean', bins=logsm_bins)\n",
    "frac_av_clip_total_z2, __, __ = binned_statistic(\n",
    "    np.log10(mock['mstar'][z2_mask]), mock['total_Av'][z2_mask]<clip, \n",
    "    statistic='mean', bins=logsm_bins)\n",
    "frac_av_clip_total_z3, __, __ = binned_statistic(\n",
    "    np.log10(mock['mstar'][z3_mask]), mock['total_Av'][z3_mask]<clip, \n",
    "    statistic='mean', bins=logsm_bins)\n",
    "\n",
    "frac_av_clip_disk_z0, __, __ = binned_statistic(\n",
    "    np.log10(mock['mstar'][z0_mask]), mock['disk_Av'][z0_mask]<clip, \n",
    "    statistic='mean', bins=logsm_bins)\n",
    "frac_av_clip_disk_z1, __, __ = binned_statistic(\n",
    "    np.log10(mock['mstar'][z1_mask]), mock['disk_Av'][z1_mask]<clip, \n",
    "    statistic='mean', bins=logsm_bins)\n",
    "frac_av_clip_disk_z2, __, __ = binned_statistic(\n",
    "    np.log10(mock['mstar'][z2_mask]), mock['disk_Av'][z2_mask]<clip, \n",
    "    statistic='mean', bins=logsm_bins)\n",
    "frac_av_clip_disk_z3, __, __ = binned_statistic(\n",
    "    np.log10(mock['mstar'][z3_mask]), mock['disk_Av'][z3_mask]<clip, \n",
    "    statistic='mean', bins=logsm_bins)\n",
    "\n",
    "frac_av_clip_bulge_z0, __, __ = binned_statistic(\n",
    "    np.log10(mock['mstar'][z0_mask]), mock['bulge_Av'][z0_mask]<clip, \n",
    "    statistic='mean', bins=logsm_bins)\n",
    "frac_av_clip_bulge_z1, __, __ = binned_statistic(\n",
    "    np.log10(mock['mstar'][z1_mask]), mock['bulge_Av'][z1_mask]<clip, \n",
    "    statistic='mean', bins=logsm_bins)\n",
    "frac_av_clip_bulge_z2, __, __ = binned_statistic(\n",
    "    np.log10(mock['mstar'][z2_mask]), mock['bulge_Av'][z2_mask]<clip, \n",
    "    statistic='mean', bins=logsm_bins)\n",
    "frac_av_clip_bulge_z3, __, __ = binned_statistic(\n",
    "    np.log10(mock['mstar'][z3_mask]), mock['bulge_Av'][z3_mask]<clip, \n",
    "    statistic='mean', bins=logsm_bins)\n",
    "\n",
    "_mask = (mock['total_Av'] < 0) | (mock['disk_Av'] < 0) | (mock['bulge_Av'] < 0)\n",
    "frac_av_clip_all_z0, __, __ = binned_statistic(\n",
    "    np.log10(mock['mstar'][z0_mask]), _mask[z0_mask], statistic='mean', bins=logsm_bins)\n",
    "frac_av_clip_all_z1, __, __ = binned_statistic(\n",
    "    np.log10(mock['mstar'][z1_mask]), _mask[z1_mask], statistic='mean', bins=logsm_bins)\n",
    "frac_av_clip_all_z2, __, __ = binned_statistic(\n",
    "    np.log10(mock['mstar'][z2_mask]), _mask[z2_mask], statistic='mean', bins=logsm_bins)\n",
    "frac_av_clip_all_z3, __, __ = binned_statistic(\n",
    "    np.log10(mock['mstar'][z3_mask]), _mask[z3_mask], statistic='mean', bins=logsm_bins)\n"
   ]
  },
  {
   "cell_type": "code",
   "execution_count": null,
   "metadata": {},
   "outputs": [],
   "source": []
  },
  {
   "cell_type": "code",
   "execution_count": null,
   "metadata": {},
   "outputs": [],
   "source": []
  },
  {
   "cell_type": "code",
   "execution_count": null,
   "metadata": {},
   "outputs": [],
   "source": []
  },
  {
   "cell_type": "code",
   "execution_count": null,
   "metadata": {},
   "outputs": [],
   "source": []
  },
  {
   "cell_type": "code",
   "execution_count": 8,
   "metadata": {},
   "outputs": [
    {
     "data": {
      "image/png": "[encoded data removed]",
      "text/plain": [
       "<Figure size 432x288 with 1 Axes>"
      ]
     },
     "metadata": {},
     "output_type": "display_data"
    }
   ],
   "source": [
    "fig, ax = plt.subplots(1, 1)\n",
    "\n",
    "__=ax.plot(logsm_mids, frac_av_clip_all_z0, \n",
    "           label=r'${\\rm z\\approx0.25}$', color=mblue)\n",
    "__=ax.plot(logsm_mids, frac_av_clip_all_z1, \n",
    "           label=r'${\\rm z\\approx0.5}$', color=mgreen)\n",
    "__=ax.plot(logsm_mids, frac_av_clip_all_z2, \n",
    "           label=r'${\\rm z\\approx0.75}$', color=morange)\n",
    "__=ax.plot(logsm_mids, frac_av_clip_all_z3, \n",
    "           label=r'${\\rm z\\approx1}$', color=mred)\n",
    "ylim = ax.set_ylim(0, 1)\n",
    "xlim = ax.set_xlim(5.95, 12.1)\n",
    "\n",
    "_x = np.linspace(2, 200, 1000)\n",
    "_ylo = np.zeros(1000) + 0\n",
    "_yhi = np.zeros(1000) + 0.1\n",
    "__=ax.fill_between(_x, _ylo, _yhi, color='lightgray', alpha=0.8)\n",
    "\n",
    "leg = ax.legend()\n",
    "xlabel = ax.set_xlabel(r'${\\rm log M_{\\star}/M_{\\odot}}$')\n",
    "ylabel = ax.set_ylabel(r'${\\rm failure\\ fraction}$')\n",
    "title = ax.set_title(r'${\\rm cut:\\ A_{\\rm v} >= 0}$')\n",
    "figname = 'av_cut_impact.png'\n",
    "fig.savefig(figname, bbox_extra_artists=[xlabel, ylabel], bbox_inches='tight')"
   ]
  },
  {
   "cell_type": "code",
   "execution_count": null,
   "metadata": {},
   "outputs": [],
   "source": []
  },
  {
   "cell_type": "code",
   "execution_count": null,
   "metadata": {},
   "outputs": [],
   "source": []
  },
  {
   "cell_type": "code",
   "execution_count": null,
   "metadata": {},
   "outputs": [],
   "source": []
  },
  {
   "cell_type": "code",
   "execution_count": 9,
   "metadata": {},
   "outputs": [],
   "source": [
    "clip = 0.1\n",
    "\n",
    "frac_rv_clip_total_z0, __, __ = binned_statistic(\n",
    "    np.log10(mock['mstar'][z0_mask]), mock['total_Rv'][z0_mask]<clip, \n",
    "    statistic='mean', bins=logsm_bins)\n",
    "frac_rv_clip_total_z1, __, __ = binned_statistic(\n",
    "    np.log10(mock['mstar'][z1_mask]), mock['total_Rv'][z1_mask]<clip, \n",
    "    statistic='mean', bins=logsm_bins)\n",
    "frac_rv_clip_total_z2, __, __ = binned_statistic(\n",
    "    np.log10(mock['mstar'][z2_mask]), mock['total_Rv'][z2_mask]<clip, \n",
    "    statistic='mean', bins=logsm_bins)\n",
    "frac_rv_clip_total_z3, __, __ = binned_statistic(\n",
    "    np.log10(mock['mstar'][z3_mask]), mock['total_Rv'][z3_mask]<clip, \n",
    "    statistic='mean', bins=logsm_bins)\n",
    "\n",
    "frac_rv_clip_disk_z0, __, __ = binned_statistic(\n",
    "    np.log10(mock['mstar'][z0_mask]), mock['disk_Rv'][z0_mask]<clip, \n",
    "    statistic='mean', bins=logsm_bins)\n",
    "frac_rv_clip_disk_z1, __, __ = binned_statistic(\n",
    "    np.log10(mock['mstar'][z1_mask]), mock['disk_Rv'][z1_mask]<clip, \n",
    "    statistic='mean', bins=logsm_bins)\n",
    "frac_rv_clip_disk_z2, __, __ = binned_statistic(\n",
    "    np.log10(mock['mstar'][z2_mask]), mock['disk_Rv'][z2_mask]<clip, \n",
    "    statistic='mean', bins=logsm_bins)\n",
    "frac_rv_clip_disk_z3, __, __ = binned_statistic(\n",
    "    np.log10(mock['mstar'][z3_mask]), mock['disk_Rv'][z3_mask]<clip, \n",
    "    statistic='mean', bins=logsm_bins)\n",
    "\n",
    "frac_rv_clip_bulge_z0, __, __ = binned_statistic(\n",
    "    np.log10(mock['mstar'][z0_mask]), mock['bulge_Rv'][z0_mask]<clip, \n",
    "    statistic='mean', bins=logsm_bins)\n",
    "frac_rv_clip_bulge_z1, __, __ = binned_statistic(\n",
    "    np.log10(mock['mstar'][z1_mask]), mock['bulge_Rv'][z1_mask]<clip, \n",
    "    statistic='mean', bins=logsm_bins)\n",
    "frac_rv_clip_bulge_z2, __, __ = binned_statistic(\n",
    "    np.log10(mock['mstar'][z2_mask]), mock['bulge_Rv'][z2_mask]<clip, \n",
    "    statistic='mean', bins=logsm_bins)\n",
    "frac_rv_clip_bulge_z3, __, __ = binned_statistic(\n",
    "    np.log10(mock['mstar'][z3_mask]), mock['bulge_Rv'][z3_mask]<clip, \n",
    "    statistic='mean', bins=logsm_bins)\n",
    "\n",
    "_mask = (mock['total_Rv'] < 0) | (mock['disk_Rv'] < 0) | (mock['bulge_Rv'] < 0)\n",
    "frac_rv_clip_all_z0, __, __ = binned_statistic(\n",
    "    np.log10(mock['mstar'][z0_mask]), _mask[z0_mask], statistic='mean', bins=logsm_bins)\n",
    "frac_rv_clip_all_z1, __, __ = binned_statistic(\n",
    "    np.log10(mock['mstar'][z1_mask]), _mask[z1_mask], statistic='mean', bins=logsm_bins)\n",
    "frac_rv_clip_all_z2, __, __ = binned_statistic(\n",
    "    np.log10(mock['mstar'][z2_mask]), _mask[z2_mask], statistic='mean', bins=logsm_bins)\n",
    "frac_rv_clip_all_z3, __, __ = binned_statistic(\n",
    "    np.log10(mock['mstar'][z3_mask]), _mask[z3_mask], statistic='mean', bins=logsm_bins)\n"
   ]
  },
  {
   "cell_type": "code",
   "execution_count": 15,
   "metadata": {},
   "outputs": [
    {
     "data": {
      "image/png": "[encoded data removed]",
      "text/plain": [
       "<Figure size 432x288 with 1 Axes>"
      ]
     },
     "metadata": {},
     "output_type": "display_data"
    }
   ],
   "source": [
    "fig, ax = plt.subplots(1, 1)\n",
    "\n",
    "__=ax.plot(logsm_mids, frac_rv_clip_all_z0, \n",
    "           label=r'${\\rm z\\approx0.25}$', color=mblue)\n",
    "__=ax.plot(logsm_mids, frac_rv_clip_all_z1, \n",
    "           label=r'${\\rm z\\approx0.5}$', color=mgreen)\n",
    "__=ax.plot(logsm_mids, frac_rv_clip_all_z2, \n",
    "           label=r'${\\rm z\\approx0.75}$', color=morange)\n",
    "__=ax.plot(logsm_mids, frac_rv_clip_all_z3, \n",
    "           label=r'${\\rm z\\approx1}$', color=mred)\n",
    "ylim = ax.set_ylim(0, 1)\n",
    "xlim = ax.set_xlim(5.95, 12.1)\n",
    "\n",
    "_x = np.linspace(2, 200, 1000)\n",
    "_ylo = np.zeros(1000) + 0\n",
    "_yhi = np.zeros(1000) + 0.1\n",
    "__=ax.fill_between(_x, _ylo, _yhi, color='lightgray', alpha=0.8)\n",
    "\n",
    "leg = ax.legend()\n",
    "xlabel = ax.set_xlabel(r'${\\rm log M_{\\star}/M_{\\odot}}$')\n",
    "ylabel = ax.set_ylabel(r'${\\rm failure\\ fraction}$')\n",
    "title = ax.set_title(r'${\\rm cut:\\ R_{\\rm v} >= 0.1}$')\n",
    "figname = 'rv_cut_impact.png'\n",
    "fig.savefig(figname, bbox_extra_artists=[xlabel, ylabel], bbox_inches='tight')"
   ]
  },
  {
   "cell_type": "code",
   "execution_count": null,
   "metadata": {},
   "outputs": [],
   "source": []
  },
  {
   "cell_type": "code",
   "execution_count": null,
   "metadata": {},
   "outputs": [],
   "source": []
  },
  {
   "cell_type": "code",
   "execution_count": null,
   "metadata": {},
   "outputs": [],
   "source": []
  },
  {
   "cell_type": "code",
   "execution_count": 27,
   "metadata": {},
   "outputs": [
    {
     "name": "stderr",
     "output_type": "stream",
     "text": [
      "/opt/anaconda3/lib/python3.6/site-packages/ipykernel_launcher.py:21: RuntimeWarning: invalid value encountered in true_divide\n",
      "/opt/anaconda3/lib/python3.6/site-packages/ipykernel_launcher.py:29: RuntimeWarning: invalid value encountered in true_divide\n"
     ]
    }
   ],
   "source": [
    "_mask = (mock['disk_Rv'] > 0.1) & (mock['disk_Rv'] < 1) \n",
    "_mask &= (mock['bulge_Rv'] > 0.1) & (mock['bulge_Rv'] < 1) \n",
    "\n",
    "_mask2 = _mask & ((mock['bulge_Av'] > 1) | (mock['disk_Av'] > 1))\n",
    "\n",
    "\n",
    "tot_rv_clip_z0, __, __ = binned_statistic(\n",
    "    np.log10(mock['mstar'][z0_mask]), _mask[z0_mask], \n",
    "    statistic=np.count_nonzero, bins=logsm_bins)\n",
    "tot_rv_clip_av_clip_z0, __, __ = binned_statistic(\n",
    "    np.log10(mock['mstar'][z0_mask]), _mask2[z0_mask], \n",
    "    statistic=np.count_nonzero, bins=logsm_bins)\n",
    "frac_av_clip_z0 = tot_rv_clip_av_clip_z0/tot_rv_clip_z0.astype(float)\n",
    "\n",
    "tot_rv_clip_z1, __, __ = binned_statistic(\n",
    "    np.log10(mock['mstar'][z1_mask]), _mask[z1_mask], \n",
    "    statistic=np.count_nonzero, bins=logsm_bins)\n",
    "tot_rv_clip_av_clip_z1, __, __ = binned_statistic(\n",
    "    np.log10(mock['mstar'][z1_mask]), _mask2[z1_mask], \n",
    "    statistic=np.count_nonzero, bins=logsm_bins)\n",
    "frac_av_clip_z1 = tot_rv_clip_av_clip_z1/tot_rv_clip_z1.astype(float)\n",
    "\n",
    "tot_rv_clip_z2, __, __ = binned_statistic(\n",
    "    np.log10(mock['mstar'][z2_mask]), _mask[z2_mask], \n",
    "    statistic=np.count_nonzero, bins=logsm_bins)\n",
    "tot_rv_clip_av_clip_z2, __, __ = binned_statistic(\n",
    "    np.log10(mock['mstar'][z2_mask]), _mask2[z2_mask], \n",
    "    statistic=np.count_nonzero, bins=logsm_bins)\n",
    "frac_av_clip_z2 = tot_rv_clip_av_clip_z2/tot_rv_clip_z2.astype(float)\n",
    "\n",
    "tot_rv_clip_z3, __, __ = binned_statistic(\n",
    "    np.log10(mock['mstar'][z3_mask]), _mask[z3_mask], \n",
    "    statistic=np.count_nonzero, bins=logsm_bins)\n",
    "tot_rv_clip_av_clip_z3, __, __ = binned_statistic(\n",
    "    np.log10(mock['mstar'][z3_mask]), _mask2[z3_mask], \n",
    "    statistic=np.count_nonzero, bins=logsm_bins)\n",
    "frac_av_clip_z3 = tot_rv_clip_av_clip_z3/tot_rv_clip_z3.astype(float)\n"
   ]
  },
  {
   "cell_type": "code",
   "execution_count": 34,
   "metadata": {},
   "outputs": [
    {
     "data": {
      "image/png": "[encoded data removed]",
      "text/plain": [
       "<Figure size 432x288 with 1 Axes>"
      ]
     },
     "metadata": {},
     "output_type": "display_data"
    }
   ],
   "source": [
    "fig, ax = plt.subplots(1, 1)\n",
    "\n",
    "__=ax.plot(logsm_mids, frac_av_clip_z0, \n",
    "           label=r'${\\rm z\\approx0.25}$', color=mblue)\n",
    "__=ax.plot(logsm_mids, frac_av_clip_z1, \n",
    "           label=r'${\\rm z\\approx0.5}$', color=mgreen)\n",
    "__=ax.plot(logsm_mids, frac_av_clip_z2, \n",
    "           label=r'${\\rm z\\approx0.75}$', color=morange)\n",
    "__=ax.plot(logsm_mids, frac_av_clip_z3, \n",
    "           label=r'${\\rm z\\approx1}$', color=mred)\n",
    "ylim = ax.set_ylim(0, 1)\n",
    "xlim = ax.set_xlim(5.95, 12.1)\n",
    "\n",
    "_x = np.linspace(2, 200, 1000)\n",
    "_ylo = np.zeros(1000) + 0\n",
    "_yhi = np.zeros(1000) + 0.1\n",
    "__=ax.fill_between(_x, _ylo, _yhi, color='lightgray', alpha=0.8)\n",
    "\n",
    "leg = ax.legend()\n",
    "xlabel = ax.set_xlabel(r'${\\rm log M_{\\star}/M_{\\odot}}$')\n",
    "ylabel = ax.set_ylabel(r'${\\rm failure\\ fraction}$')\n",
    "title = ax.set_title(r'${\\rm Prob(A_v > 1\\ |\\ 0.1 < R_v < 1)}$')\n",
    "figname = 'good_rv_av_cut_impact.png'\n",
    "fig.savefig(figname, bbox_extra_artists=[xlabel, ylabel], bbox_inches='tight')"
   ]
  },
  {
   "cell_type": "code",
   "execution_count": null,
   "metadata": {},
   "outputs": [],
   "source": []
  }
 ],
 "metadata": {
  "kernelspec": {
   "display_name": "Python [default]",
   "language": "python",
   "name": "python3"
  },
  "language_info": {
   "codemirror_mode": {
    "name": "ipython",
    "version": 3
   },
   "file_extension": ".py",
   "mimetype": "text/x-python",
   "name": "python",
   "nbconvert_exporter": "python",
   "pygments_lexer": "ipython3",
   "version": "3.6.5"
  }
 },
 "nbformat": 4,
 "nbformat_minor": 2
}
