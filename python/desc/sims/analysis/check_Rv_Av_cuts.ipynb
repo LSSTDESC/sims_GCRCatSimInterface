{
 "cells": [
  {
   "cell_type": "code",
   "execution_count": 59,
   "metadata": {},
   "outputs": [],
   "source": [
    "%matplotlib inline\n",
    "morange = u'#ff7f0e'\n",
    "mblue = u'#1f77b4'\n",
    "mgreen = u'#2ca02c'\n",
    "mred = u'#d62728'\n",
    "mpurple = u'#9467bd'\n",
    "from matplotlib import pyplot as plt\n",
    "import numpy as np \n",
    "import h5py\n"
   ]
  },
  {
   "cell_type": "code",
   "execution_count": null,
   "metadata": {},
   "outputs": [],
   "source": []
  },
  {
   "cell_type": "code",
   "execution_count": 60,
   "metadata": {},
   "outputs": [
    {
     "name": "stdout",
     "output_type": "stream",
     "text": [
      "['redshift', 'mstar', 'disk_g', 'disk_i', 'disk_r', 'disk_u', 'disk_y', 'disk_z', 'bulge_g', 'bulge_i', 'bulge_r', 'bulge_u', 'bulge_y', 'bulge_z', 'total_g', 'total_i', 'total_r', 'total_u', 'total_y', 'total_z', 'disk_B_rest', 'disk_B_rest_dust', 'disk_V_rest', 'disk_V_rest_dust', 'bulge_B_rest', 'bulge_B_rest_dust', 'bulge_V_rest', 'bulge_V_rest_dust', 'total_B_rest', 'total_B_rest_dust', 'total_V_rest', 'total_V_rest_dust']\n"
     ]
    }
   ],
   "source": [
    "from astropy.table import Table\n",
    "mock = Table()\n",
    "\n",
    "import os\n",
    "csdir = \"/global/projecta/projectdirs/lsst/groups/CS/cosmoDC2\"\n",
    "dirname = os.path.join(csdir, \"cosmoDC2_v1.0.0\")\n",
    "basename = \"z_0_1.step_all.healpix_564.hdf5\"\n",
    "\n",
    "with h5py.File(os.path.join(dirname, basename)) as f:\n",
    "    mock['redshift'] = f['galaxyProperties/redshift'].value\n",
    "    mock['mstar'] = f['galaxyProperties/totalMassStellar'].value\n",
    "\n",
    "    keys_to_keep = list(\n",
    "        key for key in f['galaxyProperties/LSST_filters'].keys() \n",
    "        if 'observed:dustAtlas' in key and 'magnitude' not in key)\n",
    "    keys_to_keep2 = list(key for key in f['galaxyProperties/otherLuminosities'].keys() \n",
    "                            if 'Lyc' not in key)\n",
    "    for key in keys_to_keep:\n",
    "        mock[key] = f['galaxyProperties/LSST_filters'+'/'+key].value\n",
    "    for key in keys_to_keep2:\n",
    "        mock[key] = f['galaxyProperties/otherLuminosities'+'/'+key].value\n",
    "\n",
    "for key in mock.keys():\n",
    "    newkey = key.replace(':LSST', '')\n",
    "    newkey = newkey.replace('LuminositiesStellar', '')\n",
    "    newkey = newkey.replace('observed:dustAtlas', '')\n",
    "    newkey = newkey.replace('spheroid', 'bulge')\n",
    "    newkey = newkey.replace(':B:', '_B_')\n",
    "    newkey = newkey.replace(':V:', '_V_')\n",
    "    newkey = newkey.replace('rest:dustAtlas', 'rest_dust')\n",
    "    newkey = newkey.replace(':', '')\n",
    "    mock.rename_column(key, newkey)\n",
    "print(mock.keys())"
   ]
  },
  {
   "cell_type": "code",
   "execution_count": null,
   "metadata": {},
   "outputs": [],
   "source": []
  },
  {
   "cell_type": "code",
   "execution_count": 61,
   "metadata": {},
   "outputs": [],
   "source": [
    "def _calc_Rv(lum_v, lum_v_dust, lum_b, lum_b_dust): #Rv definition with best behavior\n",
    "    with np.errstate(divide='ignore', invalid='ignore'):\n",
    "        Av = -2.5*np.log10(lum_v_dust) + 2.5*np.log10(lum_v)\n",
    "        Ab = -2.5*np.log10(lum_b_dust) + 2.5*np.log10(lum_b)\n",
    "        Ebv = -2.5*np.log10(lum_b_dust) + 2.5*np.log10(lum_b) - 2.5*np.log10(lum_v_dust) + 2.5*np.log10(lum_v)\n",
    "        Rv = Av / Ebv\n",
    "        Rv[(Av == 0) & (Ab == 0)] = 1.0\n",
    "        #remove remaining nans and infs for image sims\n",
    "        mask = np.isfinite(Rv)\n",
    "        r = np.random.RandomState(43) # for reproduceability\n",
    "        Rv[~mask] = r.uniform(1.0, 5.0, np.count_nonzero(~mask))\n",
    "        return Rv\n",
    "\n",
    "\n",
    "def _calc_Av(lum_v, lum_v_dust):\n",
    "    with np.errstate(divide='ignore', invalid='ignore'):\n",
    "        Av = -2.5*(np.log10(lum_v_dust/lum_v))\n",
    "        Av[(lum_v==0) & (lum_v_dust==0)] = 0     \n",
    "        return Av\n",
    "\n",
    "mock['total_Rv'] = _calc_Rv(mock['total_V_rest'], mock['total_V_rest_dust'],\n",
    "             mock['total_B_rest'], mock['total_B_rest_dust'])\n",
    "mock['bulge_Rv'] = _calc_Rv(mock['bulge_V_rest'], mock['bulge_V_rest_dust'],\n",
    "                 mock['bulge_B_rest'], mock['bulge_B_rest_dust'])\n",
    "mock['disk_Rv'] = _calc_Rv(mock['disk_V_rest'], mock['disk_V_rest_dust'],\n",
    "                 mock['disk_B_rest'], mock['disk_B_rest_dust'])\n",
    "mock['total_Av'] = _calc_Av(mock['total_V_rest'], mock['total_V_rest_dust'])\n",
    "mock['disk_Av'] = _calc_Av(mock['disk_V_rest'], mock['disk_V_rest_dust'])\n",
    "mock['bulge_Av'] = _calc_Av(mock['bulge_V_rest'], mock['bulge_V_rest_dust'])\n"
   ]
  },
  {
   "cell_type": "code",
   "execution_count": 62,
   "metadata": {},
   "outputs": [
    {
     "data": {
      "text/plain": [
       "(18986309, 31905158)"
      ]
     },
     "execution_count": 62,
     "metadata": {},
     "output_type": "execute_result"
    }
   ],
   "source": [
    "np.count_nonzero(mock['bulge_V_rest'] == mock['bulge_V_rest_dust']), len(mock['bulge_V_rest'])"
   ]
  },
  {
   "cell_type": "code",
   "execution_count": 63,
   "metadata": {},
   "outputs": [
    {
     "name": "stdout",
     "output_type": "stream",
     "text": [
      "-0.0194128 0.15160880883272856\n",
      "0.0 0.0\n",
      "-0.0214153 0.19388024970758647\n"
     ]
    }
   ],
   "source": [
    "mask_Av1 = mock['total_Av']<0\n",
    "mask_Avd1 = mock['disk_Av']<0\n",
    "mask_Avb1 = mock['bulge_Av']<0\n",
    "print(np.min(mock['total_Av']), np.count_nonzero(mask_Av1)/float(len(mock['bulge_V_rest'])))\n",
    "print(np.min(mock['bulge_Av']), np.count_nonzero(mask_Avb1)/float(len(mock['bulge_V_rest'])))\n",
    "print(np.min(mock['disk_Av']), np.count_nonzero(mask_Avd1)/float(len(mock['bulge_V_rest'])))"
   ]
  },
  {
   "cell_type": "code",
   "execution_count": 64,
   "metadata": {},
   "outputs": [],
   "source": [
    "z0, z1, z2, z3 = 0.35, 0.6, 0.8, 1.1\n",
    "z0_mask = mock['redshift'] < z0\n",
    "z1_mask = (mock['redshift'] >= z0) & (mock['redshift'] < z1)\n",
    "z2_mask = (mock['redshift'] >= z1) & (mock['redshift'] < z2)\n",
    "z3_mask = (mock['redshift'] >= z2) & (mock['redshift'] < z3)\n"
   ]
  },
  {
   "cell_type": "code",
   "execution_count": 84,
   "metadata": {},
   "outputs": [
    {
     "name": "stdout",
     "output_type": "stream",
     "text": [
      "-5801.0 0.1284641812461797\n",
      "0.0 0.06457516994587521\n",
      "-3430.0 0.132520735361975\n"
     ]
    }
   ],
   "source": [
    "mask_Rv1 = mock['total_Rv']<0.1\n",
    "mask_Rvd1 = mock['disk_Rv']<0.1\n",
    "mask_Rvb1 = mock['bulge_Rv']<0.1\n",
    "print(np.min(mock['total_Rv']), np.count_nonzero(mask_Rv1)/float(len(mock['bulge_V_rest'])))\n",
    "print(np.min(mock['bulge_Rv']), np.count_nonzero(mask_Rvb1)/float(len(mock['bulge_V_rest'])))\n",
    "print(np.min(mock['disk_Rv']), np.count_nonzero(mask_Rvd1)/float(len(mock['bulge_V_rest'])))"
   ]
  },
  {
   "cell_type": "code",
   "execution_count": 160,
   "metadata": {},
   "outputs": [
    {
     "name": "stdout",
     "output_type": "stream",
     "text": [
      "0.0\n",
      "0.0\n",
      "2.5074315569915057e-07\n",
      "8\n",
      "disk_V_rest\n",
      "-----------\n",
      "4.64383e+08\n",
      "4.86303e+08\n",
      " 4.9931e+08\n",
      "5.00113e+08\n",
      "4.84176e+08\n",
      "4.79527e+08\n",
      "3.98455e+07\n",
      "1.42568e+07 disk_V_rest_dust\n",
      "----------------\n",
      "     3.18095e-43\n",
      "     7.48293e-43\n",
      "     8.07148e-43\n",
      "     1.00473e-42\n",
      "     8.82818e-43\n",
      "      1.1911e-42\n",
      "     2.26193e-40\n",
      "     8.40779e-45\n"
     ]
    }
   ],
   "source": [
    "mask_Av2 = mock['total_Av']>1.\n",
    "mask_Avd2 = mock['disk_Av']>1.\n",
    "mask_Avb2 = mock['bulge_Av']>1.\n",
    "\n",
    "print(np.count_nonzero(mask_Av2 & mask_Rv1 )/float(len(mock['bulge_V_rest'])))\n",
    "print(np.count_nonzero(mask_Avb2 & mask_Rvb1)/float(len(mock['bulge_V_rest'])))\n",
    "print(np.count_nonzero(mask_Avd2 & mask_Rvd1)/float(len(mock['bulge_V_rest'])))\n",
    "print(len(mock['disk_V_rest'][mask_Avd2 & mask_Rvd1]))\n",
    "print(mock['disk_V_rest'][mask_Avd2 & mask_Rvd1], mock['disk_V_rest_dust'][mask_Avd2 & mask_Rvd1])"
   ]
  },
  {
   "cell_type": "code",
   "execution_count": 89,
   "metadata": {},
   "outputs": [
    {
     "name": "stdout",
     "output_type": "stream",
     "text": [
      "0.011300085083421308\n",
      "0.004356411587117043\n",
      "0.012883465425872518\n"
     ]
    }
   ],
   "source": [
    "mask_Rv2 = (mock['total_Rv']>=0.1) & (mock['total_Rv'] <= 1.)\n",
    "mask_Rvd2 = (mock['disk_Rv']>=0.1) & (mock['disk_Rv'] <= 1.)\n",
    "mask_Rvb2 = (mock['bulge_Rv']>=0.1) & (mock['bulge_Rv'] <= 1.)\n",
    "print(np.count_nonzero(mask_Av2 & mask_Rv2)/float(len(mock['bulge_V_rest'])))\n",
    "print(np.count_nonzero(mask_Avb2 & mask_Rvb2)/float(len(mock['bulge_V_rest'])))\n",
    "print(np.count_nonzero(mask_Avd2 & mask_Rvd2)/float(len(mock['bulge_V_rest'])))"
   ]
  },
  {
   "cell_type": "code",
   "execution_count": 83,
   "metadata": {},
   "outputs": [
    {
     "name": "stdout",
     "output_type": "stream",
     "text": [
      "disk_Av 6185780 0.19388024970758647\n",
      "-0.0214153\n",
      "bulge_Av 0 0.0\n"
     ]
    },
    {
     "data": {
      "image/png": "[encoded data removed]",
      "text/plain": [
       "<Figure size 432x288 with 1 Axes>"
      ]
     },
     "metadata": {},
     "output_type": "display_data"
    }
   ],
   "source": [
    "from scipy.stats import binned_statistic\n",
    "import re\n",
    "fig, ax = plt.subplots(1, 1)\n",
    "Av_new = 0.\n",
    "masks = [mask_Avd1, mask_Avb1]\n",
    "quantities = ['disk_Av', 'bulge_Av']\n",
    "colors = ['blue', 'green']\n",
    "for msk, q, c in zip(masks, quantities, colors):\n",
    "    total = np.count_nonzero(msk)/float(len(mock['bulge_V_rest']))\n",
    "    print(q, np.count_nonzero(msk), np.count_nonzero(msk)/float(len(mock['bulge_V_rest'])))\n",
    "    label = re.sub('_', ' ',q) + ' ({:.0f} % )'.format(100.*total)\n",
    "    if np.count_nonzero(msk) > 0:\n",
    "        print('min =',np.min(mock[q][msk]))\n",
    "        N, bins = np.histogram(Av_new - mock[q][msk], bins=40)\n",
    "        bin_cent = 0.5*(bins[:-1] + bins[1:])\n",
    "        __=ax.plot(bin_cent, N/float(np.count_nonzero(msk)), color=c, label=label)\n",
    "    else:\n",
    "        __=ax.plot(bin_cent, np.zeros(len(bin_cent)), color=c, label=label)\n",
    "\n",
    "leg = ax.legend()\n",
    "xlabel = ax.set_xlabel(r'${\\Delta A_{\\rm v}}$')\n",
    "cut = '$A_v < {:.1f}$ Galaxies'.format(Av_new)\n",
    "ylabel = ax.set_ylabel('Fraction of {}'.format(cut))\n",
    "title = ax.set_title(r'$\\Delta A_v$ for ' + cut)\n",
    "figname = 'av_shift.png'\n",
    "fig.savefig(figname, bbox_extra_artists=[xlabel, ylabel], bbox_inches='tight')       \n"
   ]
  },
  {
   "cell_type": "code",
   "execution_count": 120,
   "metadata": {},
   "outputs": [
    {
     "name": "stdout",
     "output_type": "stream",
     "text": [
      "disk_Rv 4228095 0.132520735361975\n",
      "min/max = 1.19358e-05 3430.1\n",
      "bulge_Rv 2060281 0.06457516994587521\n",
      "min/max = 5.7146e-06 0.1\n"
     ]
    },
    {
     "data": {
      "image/png": "[encoded data removed]",
      "text/plain": [
       "<Figure size 432x288 with 1 Axes>"
      ]
     },
     "metadata": {},
     "output_type": "display_data"
    }
   ],
   "source": [
    "fig, ax = plt.subplots(1, 1)\n",
    "Rv_new = 0.1\n",
    "Av_new = 1.0\n",
    "masks = [mask_Rvd1, mask_Rvb1]\n",
    "quantities = ['disk_Rv', 'bulge_Rv']\n",
    "colors = ['blue', 'green']\n",
    "for msk, q, c in zip(masks, quantities, colors):\n",
    "    total = np.count_nonzero(msk)/float(len(mock['bulge_V_rest']))\n",
    "    print(q, np.count_nonzero(msk), np.count_nonzero(msk)/float(len(mock['bulge_V_rest'])))\n",
    "    label = re.sub('_', ' ',q) + ' ({:.0f} % )'.format(100.*total)\n",
    "    if np.count_nonzero(msk) > 0:\n",
    "        print('min/max =', np.min(Rv_new - mock[q][msk]), np.max(Rv_new - mock[q][msk]))\n",
    "        N, bins = np.histogram(np.log10(Rv_new - mock[q][msk]), bins=200)\n",
    "        bin_cent = 0.5*(bins[:-1] + bins[1:])\n",
    "        __=ax.plot(bin_cent, N/float(np.count_nonzero(msk)), color=c, label=label)\n",
    "    else:\n",
    "        __=ax.plot(bin_cent, np.zeros(len(bin_cent)), color=c, label=label)\n",
    "\n",
    "leg = ax.legend()\n",
    "xlim = ax.set_xlim(-1.5, 1.)\n",
    "xlabel = ax.set_xlabel(r'${\\log_{10}(\\Delta R_{\\rm v})}$')\n",
    "cut = '$R_v < {:.1f}$ Galaxies'.format(Rv_new)\n",
    "ylabel = ax.set_ylabel('Fraction of {}'.format(cut))\n",
    "title = ax.set_title(r'$\\Delta R_v$ for ' + cut)\n",
    "figname = 'rv_shift.png'\n",
    "fig.savefig(figname, bbox_extra_artists=[xlabel, ylabel], bbox_inches='tight')       \n"
   ]
  },
  {
   "cell_type": "code",
   "execution_count": null,
   "metadata": {},
   "outputs": [],
   "source": []
  },
  {
   "cell_type": "code",
   "execution_count": 158,
   "metadata": {},
   "outputs": [
    {
     "name": "stdout",
     "output_type": "stream",
     "text": [
      "disk_Av 411049 0.012883465425872518\n",
      "411048\n",
      "min/max = 1.0 99.5747\n",
      "bulge_Av 138992 0.004356411587117043\n",
      "138992\n",
      "min/max = 1.00001 5.04198\n"
     ]
    },
    {
     "data": {
      "image/png": "[encoded data removed]",
      "text/plain": [
       "<Figure size 432x288 with 1 Axes>"
      ]
     },
     "metadata": {},
     "output_type": "display_data"
    }
   ],
   "source": [
    "fig, ax_array = plt.subplots(1, 1)\n",
    "Av_new = 1.0\n",
    "Rv_new = 0.1\n",
    "Rv_lim = 1.0\n",
    "mask_Avd3 = mask_Avd2 & mask_Rvd1\n",
    "mask_Avb3 = mask_Avb2 & mask_Rvb1\n",
    "mask_Avd4 = mask_Avd2 & mask_Rvd2\n",
    "mask_Avb4 = mask_Avb2 & mask_Rvb2\n",
    "quantities = ['disk_Av', 'bulge_Av']\n",
    "cut1 = '$R_v < {:.1f}$'.format(Rv_new)\n",
    "cut0 = '{:.1f} <= $R_v <= {:.1f}$ & '.format(Rv_new, Rv_lim)\n",
    "for ax, masks in zip([ax_array], [[mask_Avd4, mask_Avb4]]):\n",
    "    colors = ['blue', 'green']\n",
    "    for msk, q, c in zip(masks, quantities, colors):\n",
    "        total = np.count_nonzero(msk)/float(len(mock['bulge_V_rest']))\n",
    "        print(q, np.count_nonzero(msk), np.count_nonzero(msk)/float(len(mock['bulge_V_rest'])))\n",
    "        print(np.count_nonzero(np.isfinite(mock[q][msk])))\n",
    "        label = re.sub('_', ' ',q) + ' ({:.2f} % )'.format(100.*total)\n",
    "        if np.count_nonzero(msk) > 0:\n",
    "            maskf = np.isfinite(mock[q]) & msk\n",
    "            if np.count_nonzero(maskf) > 0:\n",
    "                print('min/max =', np.min(mock[q][maskf]), np.max(mock[q][maskf]))\n",
    "                N, bins = np.histogram(Av_new - mock[q][maskf], bins=100)\n",
    "                bin_cent = 0.5*(bins[:-1] + bins[1:])\n",
    "                #print(N, N/float(np.count_nonzero(maskf)), np.sum(N))\n",
    "                __=ax.plot(bin_cent, N/float(np.count_nonzero(maskf)), color=c, label=label)\n",
    "\n",
    "    leg = ax.legend()\n",
    "    xlim = ax.set_xlim(-25., 1.0)\n",
    "    xlabel = ax.set_xlabel(r'$\\Delta A_{\\rm v}$')\n",
    "    cut = '$A_v > {:.1f}$ Galaxies'.format(Av_new)\n",
    "    ylabel = ax.set_ylabel('Fraction of {} {}'.format(cut0, cut))\n",
    "    title = ax.set_title(r'$\\Delta A_v$ for ' + cut0 + cut)\n",
    "    figname = 'av_shift2.png'\n",
    "    fig.savefig(figname, bbox_extra_artists=[xlabel, ylabel])       \n"
   ]
  },
  {
   "cell_type": "code",
   "execution_count": null,
   "metadata": {},
   "outputs": [],
   "source": []
  },
  {
   "cell_type": "code",
   "execution_count": null,
   "metadata": {},
   "outputs": [],
   "source": []
  },
  {
   "cell_type": "code",
   "execution_count": null,
   "metadata": {},
   "outputs": [],
   "source": []
  },
  {
   "cell_type": "code",
   "execution_count": null,
   "metadata": {},
   "outputs": [],
   "source": []
  },
  {
   "cell_type": "code",
   "execution_count": 9,
   "metadata": {},
   "outputs": [],
   "source": []
  },
  {
   "cell_type": "code",
   "execution_count": null,
   "metadata": {},
   "outputs": [],
   "source": []
  },
  {
   "cell_type": "code",
   "execution_count": null,
   "metadata": {},
   "outputs": [],
   "source": []
  },
  {
   "cell_type": "code",
   "execution_count": null,
   "metadata": {},
   "outputs": [],
   "source": []
  },
  {
   "cell_type": "code",
   "execution_count": null,
   "metadata": {},
   "outputs": [],
   "source": []
  }
 ],
 "metadata": {
  "kernelspec": {
   "display_name": "Python [default]",
   "language": "python",
   "name": "python3"
  },
  "language_info": {
   "codemirror_mode": {
    "name": "ipython",
    "version": 3
   },
   "file_extension": ".py",
   "mimetype": "text/x-python",
   "name": "python",
   "nbconvert_exporter": "python",
   "pygments_lexer": "ipython3",
   "version": "3.6.5"
  }
 },
 "nbformat": 4,
 "nbformat_minor": 2
}
