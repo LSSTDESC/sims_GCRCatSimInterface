{
 "cells": [
  {
   "cell_type": "code",
   "execution_count": null,
   "metadata": {
    "collapsed": true
   },
   "outputs": [],
   "source": [
    "import numpy\n",
    "import os"
   ]
  },
  {
   "cell_type": "code",
   "execution_count": null,
   "metadata": {},
   "outputs": [],
   "source": [
    "from lsst.sims.catalogs.db import fileDBObject\n",
    "\n",
    "class SNFileDBObjectHostless(fileDBObject):\n",
    "    dbDefaultValues = {'varsimobjid':-1,\n",
    "                       'runid':-1,\n",
    "                       'ismultiple':-1,\n",
    "                       'run':-1,\n",
    "                       'runobjid':-1}\n",
    "\n",
    "    # These types should be matched to the database.\n",
    "    #: Default map is float.  If the column mapping is the same as the\n",
    "    # column name, None can be specified\n",
    "\n",
    "    columns = [('raJ2000', 'snra_in*PI()/180.'),\n",
    "               ('decJ2000', 'sndec_in*PI()/180.'),\n",
    "               ('Tt0', 't0_in'),\n",
    "               ('Tx0', 'x0_in'),\n",
    "               ('Tx1', 'x1_in'),\n",
    "               ('Tc', 'c_in'),\n",
    "               ('Tsnid', 'snid_in'),\n",
    "               ('redshift', 'z_in'),\n",
    "               ('Tredshift', 'z_in'),\n",
    "               ('id', 'snid_in'),\n",
    "               ('Tgaltileid', 'galtileid')\n",
    "              ]"
   ]
  },
  {
   "cell_type": "code",
   "execution_count": null,
   "metadata": {},
   "outputs": [],
   "source": [
    "from desc.sims.GCRCatSimInterface import DC2CatalogSN\n"
   ]
  },
  {
   "cell_type": "code",
   "execution_count": null,
   "metadata": {
    "collapsed": true
   },
   "outputs": [],
   "source": [
    "from lsst.sims.catUtils.exampleCatalogDefinitions import DefaultPhoSimHeaderMap"
   ]
  },
  {
   "cell_type": "code",
   "execution_count": null,
   "metadata": {
    "collapsed": true
   },
   "outputs": [],
   "source": [
    "from lsst.sims.catUtils.utils import ObservationMetaDataGenerator"
   ]
  },
  {
   "cell_type": "code",
   "execution_count": null,
   "metadata": {
    "collapsed": true
   },
   "outputs": [],
   "source": [
    "opsimdb = '/Users/danielsf/physics/lsst_150412/Development/garage/OpSimData/minion_1016_sqlite.db'\n",
    "obs_gen = ObservationMetaDataGenerator(database=opsimdb, driver='sqlite')\n",
    "obsmd = obs_gen.getObservationMetaData(obsHistID=230,\n",
    "                                       boundType='circle',\n",
    "                                       boundLength=3.0)[0]"
   ]
  },
  {
   "cell_type": "code",
   "execution_count": null,
   "metadata": {
    "collapsed": true
   },
   "outputs": [],
   "source": [
    "dbName = 'DC2_Run1p1_SN.db'\n",
    "if os.path.exists(dbName):\n",
    "      os.unlink(dbName)"
   ]
  },
  {
   "cell_type": "code",
   "execution_count": null,
   "metadata": {
    "collapsed": true
   },
   "outputs": [],
   "source": [
    "sncsv_hostless_uDDF = '../data/uDDF_hostlessSN.csv'\n",
    "sncsv_hosted_uDDF = '../data/uDDFHostedSNPositions.csv'\n",
    "sncsv_hosted_pDC2 = '../data/MainSurveyHostedSNPositions.csv'\n",
    "sncsv_hostless_pDC2 = '../data/MainSurvey_hostlessSN.csv'\n",
    "sncsv_hostless_pDC2_highz = '../data/MainSurvey_hostlessSN_highz.csv'"
   ]
  },
  {
   "cell_type": "code",
   "execution_count": null,
   "metadata": {
    "collapsed": true
   },
   "outputs": [],
   "source": [
    "#sncsv_hostless_uDDF = '../data/hostedSN_modified.csv'"
   ]
  },
  {
   "cell_type": "code",
   "execution_count": null,
   "metadata": {},
   "outputs": [],
   "source": [
    "dtype = numpy.dtype([('c_in', float), ('mB', float), ('snid_in', int),\n",
    "                  ('t0_in', float),\n",
    "                  ('x0_in', float), ('x1_in', float), ('z_in', float),\n",
    "                  ('rand_host', float), ('snra_in', float), ('sndec_in',float)])\n",
    "sndb_hostless_uDDF = SNFileDBObjectHostless(sncsv_hostless_uDDF,\n",
    "                                            runtable='hostless_uddf',\n",
    "                                            idColKey='snid_in',\n",
    "                                           dtype=dtype)"
   ]
  },
  {
   "cell_type": "code",
   "execution_count": null,
   "metadata": {
    "collapsed": true
   },
   "outputs": [],
   "source": [
    "sndb_hostless_uDDF.raColName ='snra_in'\n",
    "sndb_hostless_uDDF.decColName ='sndec_in'\n",
    "sndb_hostless_uDDF.objectTypeId = 1"
   ]
  },
  {
   "cell_type": "code",
   "execution_count": null,
   "metadata": {},
   "outputs": [],
   "source": [
    "sndb_hostless_uDDF.get_column_names('hostless_uddf')"
   ]
  },
  {
   "cell_type": "code",
   "execution_count": null,
   "metadata": {},
   "outputs": [],
   "source": [
    "snphosim_hostless_uDDF = DC2CatalogSN(db_obj=sndb_hostless_uDDF, obs_metadata=obsmd)"
   ]
  },
  {
   "cell_type": "code",
   "execution_count": null,
   "metadata": {
    "collapsed": true
   },
   "outputs": [],
   "source": [
    "snphosim_hostless_uDDF.surveyStartDate = 0."
   ]
  },
  {
   "cell_type": "code",
   "execution_count": null,
   "metadata": {
    "collapsed": true
   },
   "outputs": [],
   "source": [
    "snphosim_hostless_uDDF.phoSimHeaderMap = DefaultPhoSimHeaderMap"
   ]
  },
  {
   "cell_type": "code",
   "execution_count": null,
   "metadata": {
    "collapsed": true
   },
   "outputs": [],
   "source": []
  },
  {
   "cell_type": "code",
   "execution_count": null,
   "metadata": {},
   "outputs": [],
   "source": [
    "sndb_hostless_uDDF.query_columns(colnames=['redshift'])"
   ]
  },
  {
   "cell_type": "code",
   "execution_count": null,
   "metadata": {},
   "outputs": [],
   "source": [
    "snphosim_hostless_uDDF.write_catalog('tmp.txt')"
   ]
  },
  {
   "cell_type": "code",
   "execution_count": null,
   "metadata": {},
   "outputs": [],
   "source": [
    "!wc -l tmp.txt"
   ]
  },
  {
   "cell_type": "code",
   "execution_count": null,
   "metadata": {
    "collapsed": true
   },
   "outputs": [],
   "source": []
  }
 ],
 "metadata": {
  "kernelspec": {
   "display_name": "Python 3",
   "language": "python",
   "name": "python3"
  },
  "language_info": {
   "codemirror_mode": {
    "name": "ipython",
    "version": 3
   },
   "file_extension": ".py",
   "mimetype": "text/x-python",
   "name": "python",
   "nbconvert_exporter": "python",
   "pygments_lexer": "ipython3",
   "version": "3.6.2"
  }
 },
 "nbformat": 4,
 "nbformat_minor": 2
}
