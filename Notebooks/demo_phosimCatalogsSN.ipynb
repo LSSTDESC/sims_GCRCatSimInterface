{
 "cells": [
  {
   "cell_type": "code",
   "execution_count": 1,
   "metadata": {},
   "outputs": [],
   "source": [
    "import numpy\n",
    "import os\n",
    "from lsst.sims.catalogs.db import fileDBObject"
   ]
  },
  {
   "cell_type": "code",
   "execution_count": 2,
   "metadata": {},
   "outputs": [],
   "source": [
    "from lsst.sims.catUtils.exampleCatalogDefinitions import PhoSimCatalogSN, DefaultPhoSimHeaderMap"
   ]
  },
  {
   "cell_type": "code",
   "execution_count": 3,
   "metadata": {},
   "outputs": [],
   "source": [
    "from lsst.sims.catUtils.mixins import SNFunctionality"
   ]
  },
  {
   "cell_type": "code",
   "execution_count": 4,
   "metadata": {},
   "outputs": [],
   "source": [
    "from lsst.sims.catalogs.db import CatalogDBObject"
   ]
  },
  {
   "cell_type": "code",
   "execution_count": 5,
   "metadata": {},
   "outputs": [
    {
     "name": "stderr",
     "output_type": "stream",
     "text": [
      "/Users/rbiswas/soft/LSST3/stack/miniconda3-4.3.21-10a4fa6/DarwinX86/sims_catalogs/2.4.2.sims+1/python/lsst/sims/catalogs/db/dbConnection.py:532: UserWarning: Duplicate object type id 25 specified: \n",
      "Output object ids may not be unique.\n",
      "This may not be a problem if you do not want globally unique id values\n",
      "  'want globally unique id values')\n",
      "/Users/rbiswas/soft/LSST3/stack/miniconda3-4.3.21-10a4fa6/DarwinX86/sims_catalogs/2.4.2.sims+1/python/lsst/sims/catalogs/db/dbConnection.py:532: UserWarning: Duplicate object type id 40 specified: \n",
      "Output object ids may not be unique.\n",
      "This may not be a problem if you do not want globally unique id values\n",
      "  'want globally unique id values')\n",
      "/Users/rbiswas/soft/LSST3/stack/miniconda3-4.3.21-10a4fa6/DarwinX86/sims_catalogs/2.4.2.sims+1/python/lsst/sims/catalogs/db/dbConnection.py:532: UserWarning: Duplicate object type id 4 specified: \n",
      "Output object ids may not be unique.\n",
      "This may not be a problem if you do not want globally unique id values\n",
      "  'want globally unique id values')\n",
      "/Users/rbiswas/soft/LSST3/stack/miniconda3-4.3.21-10a4fa6/DarwinX86/sims_catalogs/2.4.2.sims+1/python/lsst/sims/catalogs/db/dbConnection.py:532: UserWarning: Duplicate object type id 28 specified: \n",
      "Output object ids may not be unique.\n",
      "This may not be a problem if you do not want globally unique id values\n",
      "  'want globally unique id values')\n"
     ]
    }
   ],
   "source": [
    "from lsst.sims.catUtils.utils import ObservationMetaDataGenerator\n",
    "from lsst.sims.utils import ObservationMetaData"
   ]
  },
  {
   "cell_type": "code",
   "execution_count": 6,
   "metadata": {},
   "outputs": [],
   "source": [
    "dbName = 'DC2_Run1p1_SN.db'"
   ]
  },
  {
   "cell_type": "code",
   "execution_count": 7,
   "metadata": {},
   "outputs": [],
   "source": [
    "if os.path.exists(dbName):\n",
    "      os.unlink(dbName)"
   ]
  },
  {
   "cell_type": "code",
   "execution_count": 8,
   "metadata": {},
   "outputs": [
    {
     "name": "stderr",
     "output_type": "stream",
     "text": [
      "/Users/rbiswas/soft/LSST3/stack/miniconda3-4.3.21-10a4fa6/DarwinX86/sims_catalogs/2.4.2.sims+1/python/lsst/sims/catalogs/db/dbConnection.py:517: UserWarning: duplicate object identifier TwinkUnlensedSN specified. This will override previous definition on line 10 of /Users/rbiswas/src/LSST/sims_catUtils/python/lsst/sims/catUtils/baseCatalogModels/snModels.py\n",
      "  (srcline, srcfile))\n",
      "/Users/rbiswas/soft/LSST3/stack/miniconda3-4.3.21-10a4fa6/DarwinX86/sims_catalogs/2.4.2.sims+1/python/lsst/sims/catalogs/db/dbConnection.py:532: UserWarning: Duplicate object type id 42 specified: \n",
      "Output object ids may not be unique.\n",
      "This may not be a problem if you do not want globally unique id values\n",
      "  'want globally unique id values')\n"
     ]
    }
   ],
   "source": [
    "class SNDBObj(CatalogDBObject):\n",
    "    objid = 'TwinkUnlensedSN'\n",
    "    # From now on the tableid should be specified in instantiating the class\n",
    "    # table = 'TwinkSN' or 'TwinkSNKraken'\n",
    "    idColKey = 'id'\n",
    "    raColName = 'snra'\n",
    "    decColName = 'sndec'\n",
    "    objectTypeId = 42\n",
    "    #Don't run test on base class\n",
    "    doRunTest = False\n",
    "    #default observation metadata\n",
    "    testObservationMetaData = ObservationMetaData(boundType='circle',\n",
    "                                                  pointingRA=53.125,\n",
    "                                                  pointingDec=-27.9,\n",
    "                                                  boundLength=0.1,\n",
    "                                                  mjd=52000.,\n",
    "                                                  bandpassName='r',\n",
    "                                                  m5=22.0)\n",
    "    \n",
    "    dbDefaultValues = {'varsimobjid':-1, 'runid':-1, 'ismultiple':-1, 'run':-1,\n",
    "                       'runobjid':-1}\n",
    "\n",
    "    # These types should be matched to the database.\n",
    "    #: Default map is float.  If the column mapping is the same as the\n",
    "    # column name, None can be specified\n",
    "\n",
    "    columns = [('raJ2000', 'snra*PI()/180.'),\n",
    "               ('decJ2000', 'sndec*PI()/180.'),\n",
    "               ('Tt0', 't0'),\n",
    "               ('Tx0', 'x0'),\n",
    "               ('Tx1', 'x1'),\n",
    "               ('Tc', 'c'),\n",
    "               ('Tsnid', 'id'),\n",
    "               ('Tredshift', 'redshift'),\n",
    "               ('Tgaltileid', 'galtileid')\n",
    "              ]"
   ]
  },
  {
   "cell_type": "markdown",
   "metadata": {},
   "source": [
    "### Instances of CatalogDBObject Subclasses"
   ]
  },
  {
   "cell_type": "code",
   "execution_count": 9,
   "metadata": {},
   "outputs": [
    {
     "data": {
      "text/plain": [
       "0        61171.381393\n",
       "1        61586.268044\n",
       "2        61168.926733\n",
       "3        61114.342478\n",
       "4        60785.722097\n",
       "5        60326.967514\n",
       "6        61840.339027\n",
       "7        60673.739559\n",
       "8        60553.919554\n",
       "9        61847.138490\n",
       "10       61511.368644\n",
       "11       60071.216801\n",
       "12       61454.560143\n",
       "13       60253.205510\n",
       "14       62697.009818\n",
       "15       61383.964456\n",
       "16       62669.949422\n",
       "17       59870.705991\n",
       "18       61424.148229\n",
       "19       59818.295741\n",
       "20       61142.646496\n",
       "21       59932.337842\n",
       "22       61758.120378\n",
       "23       60404.943802\n",
       "24       59970.351748\n",
       "25       60384.117656\n",
       "26       60856.865940\n",
       "27       61287.424319\n",
       "28       60316.362776\n",
       "29       61917.484547\n",
       "             ...     \n",
       "26987    59611.885376\n",
       "26988    62282.303046\n",
       "26989    60123.026844\n",
       "26990    62535.664128\n",
       "26991    61338.188514\n",
       "26992    59910.782043\n",
       "26993    61250.112595\n",
       "26994    61179.407811\n",
       "26995    61471.425480\n",
       "26996    63193.051943\n",
       "26997    60966.198506\n",
       "26998    60496.294035\n",
       "26999    61561.848709\n",
       "27000    61049.098006\n",
       "27001    61608.996785\n",
       "27002    60774.936587\n",
       "27003    59820.749057\n",
       "27004    59991.455991\n",
       "27005    60195.385466\n",
       "27006    60538.640644\n",
       "27007    59667.826767\n",
       "27008    61320.826559\n",
       "27009    61690.892284\n",
       "27010    59838.777920\n",
       "27011    62537.643970\n",
       "27012    62702.360822\n",
       "27013    63137.927278\n",
       "27014    61214.167051\n",
       "27015    59973.697570\n",
       "27016    62718.642052\n",
       "Name: t0, Length: 27017, dtype: float64"
      ]
     },
     "execution_count": 9,
     "metadata": {},
     "output_type": "execute_result"
    }
   ],
   "source": [
    "fname = '../data/hostedSN_modified.csv'\n",
    "import pandas as pd\n",
    "df = pd.read_csv(fname, delim_whitespace=True)\n",
    "df.head()\n",
    "df.t0"
   ]
  },
  {
   "cell_type": "code",
   "execution_count": 11,
   "metadata": {},
   "outputs": [],
   "source": [
    "sndb = fileDBObject('../data/hostedSN_modified.csv', runtable='SNwHosts', database=dbName,\n",
    "                    idColKey='id')"
   ]
  },
  {
   "cell_type": "code",
   "execution_count": 12,
   "metadata": {},
   "outputs": [],
   "source": [
    "# If I want the SNDBObj that has been used before \n",
    "sndbobj = SNDBObj(database=sndb.database, table=sndb.tableid, driver=sndb.driver)"
   ]
  },
  {
   "cell_type": "code",
   "execution_count": 13,
   "metadata": {},
   "outputs": [
    {
     "data": {
      "text/plain": [
       "('DC2_Run1p1_SN.db', 'DC2_Run1p1_SN.db')"
      ]
     },
     "execution_count": 13,
     "metadata": {},
     "output_type": "execute_result"
    }
   ],
   "source": [
    "sndb.database, sndbobj.database"
   ]
  },
  {
   "cell_type": "code",
   "execution_count": 14,
   "metadata": {},
   "outputs": [
    {
     "data": {
      "text/plain": [
       "('sqlite', 'sqlite')"
      ]
     },
     "execution_count": 14,
     "metadata": {},
     "output_type": "execute_result"
    }
   ],
   "source": [
    "sndb.driver, sndb.driver"
   ]
  },
  {
   "cell_type": "code",
   "execution_count": 15,
   "metadata": {},
   "outputs": [
    {
     "data": {
      "text/plain": [
       "(None, None)"
      ]
     },
     "execution_count": 15,
     "metadata": {},
     "output_type": "execute_result"
    }
   ],
   "source": [
    "sndb.host, sndbobj.host"
   ]
  },
  {
   "cell_type": "code",
   "execution_count": 16,
   "metadata": {},
   "outputs": [
    {
     "data": {
      "text/plain": [
       "(Table('SNwHosts', MetaData(bind=Engine(sqlite:///DC2_Run1p1_SN.db)), Column('id', BIGINT(), table=<SNwHosts>, primary_key=True, nullable=False), Column('c', Float(precision=16), table=<SNwHosts>), Column('mB', Float(precision=16), table=<SNwHosts>), Column('x0', Float(precision=16), table=<SNwHosts>), Column('x1', Float(precision=16), table=<SNwHosts>), Column('t0', Float(precision=16), table=<SNwHosts>), Column('redshift', Float(precision=16), table=<SNwHosts>), Column('xredshift', Float(precision=16), table=<SNwHosts>), Column('snra', Float(precision=16), table=<SNwHosts>), Column('sndec', Float(precision=16), table=<SNwHosts>), Column('raJ2000_gal', Float(precision=16), table=<SNwHosts>), Column('decJ2000_gal', Float(precision=16), table=<SNwHosts>), Column('galaxy_id', BIGINT(), table=<SNwHosts>), schema=None),\n",
       " Table('SNwHosts', MetaData(bind=Engine(sqlite:///DC2_Run1p1_SN.db)), Column('id', BIGINT(), table=<SNwHosts>, primary_key=True, nullable=False), Column('c', FLOAT(), table=<SNwHosts>), Column('mB', FLOAT(), table=<SNwHosts>), Column('x0', FLOAT(), table=<SNwHosts>), Column('x1', FLOAT(), table=<SNwHosts>), Column('t0', FLOAT(), table=<SNwHosts>), Column('redshift', FLOAT(), table=<SNwHosts>), Column('xredshift', FLOAT(), table=<SNwHosts>), Column('snra', FLOAT(), table=<SNwHosts>), Column('sndec', FLOAT(), table=<SNwHosts>), Column('raJ2000_gal', FLOAT(), table=<SNwHosts>), Column('decJ2000_gal', FLOAT(), table=<SNwHosts>), Column('galaxy_id', BIGINT(), table=<SNwHosts>), schema=None))"
      ]
     },
     "execution_count": 16,
     "metadata": {},
     "output_type": "execute_result"
    }
   ],
   "source": [
    "sndb.table, sndbobj.table"
   ]
  },
  {
   "cell_type": "code",
   "execution_count": 17,
   "metadata": {},
   "outputs": [
    {
     "data": {
      "text/plain": [
       "('id', <__main__.SNDBObj at 0x155a55b38>)"
      ]
     },
     "execution_count": 17,
     "metadata": {},
     "output_type": "execute_result"
    }
   ],
   "source": [
    "sndb.idColKey, sndbobj"
   ]
  },
  {
   "cell_type": "markdown",
   "metadata": {},
   "source": [
    "## Show that both of these work with queries"
   ]
  },
  {
   "cell_type": "code",
   "execution_count": 18,
   "metadata": {},
   "outputs": [
    {
     "data": {
      "text/plain": [
       "rec.array([ (0, -0.11974464, -19.39017455,  0.00438067, -0.06508527,  61171.38139282,  0.03312659,  0.02490234,  55.28213549, -28.06142901,  55.28761087, -28.06028282, 14128389),\n",
       "           (2,  0.02296318, -19.19711652,  0.00175911, -0.24090825,  61586.26804426,  0.04734725,  0.05697989,  54.59790882, -28.54024903,  54.58471903, -28.54635065,  3254623)], \n",
       "          dtype=[('id', '<i8'), ('c', '<f8'), ('mB', '<f8'), ('x0', '<f8'), ('x1', '<f8'), ('t0', '<f8'), ('redshift', '<f8'), ('xredshift', '<f8'), ('snra', '<f8'), ('sndec', '<f8'), ('raJ2000_gal', '<f8'), ('decJ2000_gal', '<f8'), ('galaxy_id', '<i8')])"
      ]
     },
     "execution_count": 18,
     "metadata": {},
     "output_type": "execute_result"
    }
   ],
   "source": [
    "sndbobj.execute_arbitrary('SELECT * FROM SNwHosts LIMIT 2')"
   ]
  },
  {
   "cell_type": "code",
   "execution_count": 19,
   "metadata": {},
   "outputs": [
    {
     "data": {
      "text/plain": [
       "rec.array([ (0, -0.11974464, -19.39017455,  0.00438067, -0.06508527,  61171.38139282,  0.03312659,  0.02490234,  55.28213549, -28.06142901,  55.28761087, -28.06028282, 14128389),\n",
       "           (2,  0.02296318, -19.19711652,  0.00175911, -0.24090825,  61586.26804426,  0.04734725,  0.05697989,  54.59790882, -28.54024903,  54.58471903, -28.54635065,  3254623)], \n",
       "          dtype=[('id', '<i8'), ('c', '<f8'), ('mB', '<f8'), ('x0', '<f8'), ('x1', '<f8'), ('t0', '<f8'), ('redshift', '<f8'), ('xredshift', '<f8'), ('snra', '<f8'), ('sndec', '<f8'), ('raJ2000_gal', '<f8'), ('decJ2000_gal', '<f8'), ('galaxy_id', '<i8')])"
      ]
     },
     "execution_count": 19,
     "metadata": {},
     "output_type": "execute_result"
    }
   ],
   "source": [
    "sndb.execute_arbitrary('SELECT * FROM SNwHosts LIMIT 2')"
   ]
  },
  {
   "cell_type": "markdown",
   "metadata": {},
   "source": [
    "### ObsMetaData"
   ]
  },
  {
   "cell_type": "code",
   "execution_count": 20,
   "metadata": {},
   "outputs": [],
   "source": [
    "\n",
    "opsimdb = '/Users/rbiswas/data/LSST/OpSimData/minion_1016_sqlite.db'\n",
    "obs_gen = ObservationMetaDataGenerator(database=opsimdb, driver='sqlite')\n",
    "obsmd = obs_gen.getObservationMetaData(obsHistID=230,\n",
    "                                       boundType='circle',\n",
    "                                       boundLength=3.0)[0]"
   ]
  },
  {
   "cell_type": "markdown",
   "metadata": {},
   "source": [
    "### PhoSim Catalogs"
   ]
  },
  {
   "cell_type": "code",
   "execution_count": 21,
   "metadata": {},
   "outputs": [],
   "source": [
    "class DC2CatalogSN(PhoSimCatalogSN):\n",
    "    \"\"\"\n",
    "    Modification of the PhoSimCatalogSN mixin to provide shorter sedFileNames\n",
    "    by leaving out the parts of the directory name \n",
    "    \"\"\"\n",
    "    def get_sedFilepath(self):\n",
    "        return self.column_by_name('TsedFilepath')\n",
    "\n",
    "    def get_shorterFileNames(self):\n",
    "        fnames = self.column_by_name('sedFilepath')\n",
    "        sep = 'spectra_files/specFile_'\n",
    "        split_names = []\n",
    "        for fname in fnames:\n",
    "            if 'None' not in fname:\n",
    "                fname = sep + fname.split(sep)[-1] \n",
    "            else:\n",
    "                fname = 'None'\n",
    "            split_names.append(fname)\n",
    "        return np.array(split_names)\n",
    "\n",
    "    # column_outputs = PhoSimCatalogSN.column_outputs\n",
    "    # column_outputs[PhoSimCatalogSN.column_outputs.index('sedFilepath')] = \\\n",
    "    #    'shorterFileNames'\n",
    "    column_outputs = ['prefix', 'uniqueId', 'raPhoSim', 'decPhoSim',\n",
    "                      'phoSimMagNorm', 'shorterFileNames', 'redshift',\n",
    "                      'shear1', 'shear2', 'kappa', 'raOffset', 'decOffset',\n",
    "                      'spatialmodel', 'internalExtinctionModel',\n",
    "                      'galacticExtinctionModel', 'galacticAv', 'galacticRv']\n",
    "    cannot_be_null = ['x0', 't0', 'z', 'shorterFileNames']\n",
    "    \n",
    "    default_columns = [('gamma1', 0., float), ('gamma2', 0., float), ('kappa', 0., float),\n",
    "                       ('raOffset', 0., float), ('decOffset', 0., float),\n",
    "                       ('galacticAv', 0.1, float), ('galacticRv', 3.1, float),\n",
    "                       ('galacticExtinctionModel', 'CCM', (str, 3)),\n",
    "                       ('internalExtinctionModel', 'CCM', (str, 3)), ('internalAv', 0., float),\n",
    "                       ('internalRv', 3.1, float), ('shear1', 0., float), ('shear2', 0., float)]\n"
   ]
  },
  {
   "cell_type": "code",
   "execution_count": 22,
   "metadata": {},
   "outputs": [],
   "source": [
    "import numpy as np"
   ]
  },
  {
   "cell_type": "code",
   "execution_count": 23,
   "metadata": {},
   "outputs": [],
   "source": [
    "snphosim = DC2CatalogSN(db_obj=sndbobj, obs_metadata=obsmd)"
   ]
  },
  {
   "cell_type": "code",
   "execution_count": 24,
   "metadata": {},
   "outputs": [
    {
     "data": {
      "text/plain": [
       "True"
      ]
     },
     "execution_count": 24,
     "metadata": {},
     "output_type": "execute_result"
    }
   ],
   "source": [
    "snphosim.writeSEDFile"
   ]
  },
  {
   "cell_type": "code",
   "execution_count": 25,
   "metadata": {},
   "outputs": [],
   "source": [
    "snphosim.surveyStartDate =0."
   ]
  },
  {
   "cell_type": "code",
   "execution_count": 26,
   "metadata": {},
   "outputs": [],
   "source": [
    "snphosim.suppressDimSN = True"
   ]
  },
  {
   "cell_type": "code",
   "execution_count": 27,
   "metadata": {},
   "outputs": [],
   "source": [
    "snphosim.suppressHighzSN = True"
   ]
  },
  {
   "cell_type": "code",
   "execution_count": 28,
   "metadata": {},
   "outputs": [],
   "source": [
    "snphosim.sn_sedfile_prefix = 'SCRATCH/Dynamic/specFile_'"
   ]
  },
  {
   "cell_type": "code",
   "execution_count": 29,
   "metadata": {},
   "outputs": [],
   "source": [
    "snphosim.phoSimHeaderMap = DefaultPhoSimHeaderMap"
   ]
  },
  {
   "cell_type": "code",
   "execution_count": 30,
   "metadata": {},
   "outputs": [
    {
     "name": "stderr",
     "output_type": "stream",
     "text": [
      "WARNING: ErfaWarning: ERFA function \"utcut1\" yielded 1 of \"dubious year (Note 3)\" [astropy._erfa.core]\n",
      "/Users/rbiswas/soft/LSST3/stack/miniconda3-4.3.21-10a4fa6/DarwinX86/sqlalchemy/1.0.8.lsst3+4/lib/python/SQLAlchemy-1.0.8-py3.6-macosx-10.9-x86_64.egg/sqlalchemy/sql/elements.py:3779: SAWarning: Textual SQL expression 'snra between 46.247759 an...' should be explicitly declared as text('snra between 46.247759 an...') (this warning may be suppressed after 10 occurrences)\n",
      "  {\"expr\": util.ellipses_string(element)})\n"
     ]
    }
   ],
   "source": [
    "snphosim.write_catalog('testSNPhosim.txt', chunk_size=100)"
   ]
  },
  {
   "cell_type": "code",
   "execution_count": 31,
   "metadata": {},
   "outputs": [
    {
     "name": "stdout",
     "output_type": "stream",
     "text": [
      "/Users/rbiswas/doc/projects/DESC/sims_GCRCatSimInterface/Notebooks\r\n"
     ]
    }
   ],
   "source": [
    "!pwd"
   ]
  },
  {
   "cell_type": "code",
   "execution_count": null,
   "metadata": {},
   "outputs": [
    {
     "name": "stdout",
     "output_type": "stream",
     "text": [
      "\u001b7\u001b[?47h\u001b[?1h\u001b=\r",
      "rightascension 53.0091385\r\n",
      "declination -27.4389488\r\n",
      "mjd 59580.1397460\r\n",
      "altitude 66.3464112\r\n",
      "azimuth 270.2764586\r\n",
      "filter 2\r\n",
      "rotskypos 256.7507532\r\n",
      "dist2moon 124.2838277\r\n",
      "moonalt -36.1323801\r\n",
      "moondec -23.4960252\r\n",
      "moonphase 3.8193650\r\n",
      "moonra 256.4036553\r\n",
      "nsnap 2\r\n",
      "obshistid 230\r\n",
      "rottelpos 0.0000000\r\n",
      "seed 230\r\n",
      "seeing 0.8662850\r\n",
      "sunalt -32.7358290\r\n",
      "vistime 33.0000000\r\n",
      "object 888874 53.1359066 -29.2523307 22.093651 spectra_files/specFile_SCRATCH/Dy \bnamic/specFile_868_59580.1396_r.dat 0.270462239 0 0 0 0 0 point CCM CCM 0.030027 \b162 3.1\r\n",
      "object 1730602 55.1327326 -27.5277934 22.6482307 spectra_files/specFile_SCRATCH/ \b\u001b[7mtestSNPhosim.txt\u001b[m\u001b[K"
     ]
    }
   ],
   "source": [
    "!less testSNPhosim.txt"
   ]
  },
  {
   "cell_type": "code",
   "execution_count": 32,
   "metadata": {},
   "outputs": [
    {
     "name": "stdout",
     "output_type": "stream",
     "text": [
      "     135 testSNPhosim.txt\r\n"
     ]
    }
   ],
   "source": [
    "!wc -l testSNPhosim.txt"
   ]
  },
  {
   "cell_type": "markdown",
   "metadata": {},
   "source": [
    "## Scratch"
   ]
  },
  {
   "cell_type": "code",
   "execution_count": 22,
   "metadata": {},
   "outputs": [
    {
     "ename": "SyntaxError",
     "evalue": "invalid syntax (<ipython-input-22-52f5c42d8b19>, line 1)",
     "output_type": "error",
     "traceback": [
      "\u001b[0;36m  File \u001b[0;32m\"<ipython-input-22-52f5c42d8b19>\"\u001b[0;36m, line \u001b[0;32m1\u001b[0m\n\u001b[0;31m    snphosimDirect = PhoSimCatalogSN(db_obj=sndb, obs_metadata=obsmd)``\u001b[0m\n\u001b[0m                                                                     ^\u001b[0m\n\u001b[0;31mSyntaxError\u001b[0m\u001b[0;31m:\u001b[0m invalid syntax\n"
     ]
    }
   ],
   "source": [
    "snphosimDirect = PhoSimCatalogSN(db_obj=sndb, obs_metadata=obsmd)``"
   ]
  },
  {
   "cell_type": "code",
   "execution_count": 23,
   "metadata": {},
   "outputs": [
    {
     "ename": "NameError",
     "evalue": "name 'snphosimDirect' is not defined",
     "output_type": "error",
     "traceback": [
      "\u001b[0;31m---------------------------------------------------------------------------\u001b[0m",
      "\u001b[0;31mNameError\u001b[0m                                 Traceback (most recent call last)",
      "\u001b[0;32m<ipython-input-23-3562759f32a4>\u001b[0m in \u001b[0;36m<module>\u001b[0;34m()\u001b[0m\n\u001b[0;32m----> 1\u001b[0;31m \u001b[0msnphosimDirect\u001b[0m\u001b[0;34m.\u001b[0m\u001b[0msn_sedfile_prefix\u001b[0m \u001b[0;34m=\u001b[0m \u001b[0;34m'Dynamic/specFile_'\u001b[0m\u001b[0;34m\u001b[0m\u001b[0m\n\u001b[0m",
      "\u001b[0;31mNameError\u001b[0m: name 'snphosimDirect' is not defined"
     ]
    }
   ],
   "source": [
    "snphosimDirect.sn_sedfile_prefix = 'Dynamic/specFile_'"
   ]
  },
  {
   "cell_type": "code",
   "execution_count": 28,
   "metadata": {},
   "outputs": [],
   "source": [
    "snphosimDirect.phoSimHeaderMap = DefaultPhoSimHeaderMap"
   ]
  },
  {
   "cell_type": "code",
   "execution_count": 29,
   "metadata": {},
   "outputs": [
    {
     "name": "stderr",
     "output_type": "stream",
     "text": [
      "WARNING: ErfaWarning: ERFA function \"utcut1\" yielded 1 of \"dubious year (Note 3)\" [astropy._erfa.core]\n",
      "/Users/rbiswas/soft/LSST3/stack/miniconda3-4.3.21-10a4fa6/DarwinX86/sqlalchemy/1.0.8.lsst3+4/lib/python/SQLAlchemy-1.0.8-py3.6-macosx-10.9-x86_64.egg/sqlalchemy/sql/elements.py:3779: SAWarning: Textual SQL expression 'None between 46.247759 an...' should be explicitly declared as text('None between 46.247759 an...') (this warning may be suppressed after 10 occurrences)\n",
      "  {\"expr\": util.ellipses_string(element)})\n"
     ]
    },
    {
     "ename": "OperationalError",
     "evalue": "(sqlite3.OperationalError) no such column: None [SQL: 'SELECT \"SNwHosts\".id AS id, \"SNwHosts\".redshift AS redshift, \"SNwHosts\".\"Tx0\" AS \"Tx0\", \"SNwHosts\".\"Tx1\" AS \"Tx1\", \"SNwHosts\".\"Tt0\" AS \"Tt0\", \"SNwHosts\".\"decJ2000\" AS \"decJ2000\", \"SNwHosts\".\"raJ2000\" AS \"raJ2000\", \"SNwHosts\".\"Tc\" AS \"Tc\" \\nFROM \"SNwHosts\" \\nWHERE None between 46.247759 and 59.770518 and None between -30.438949 and -24.438949 and 2 * ASIN(SQRT( POWER(SIN(0.5*(None - -27.4389488088) * PI() / 180.0),2)+ COS(None * PI() / 180.0) * COS(-27.4389488088 * PI() / 180.0) * POWER(SIN(0.5 * (None - 53.009138473) * PI() / 180.0),2))) < 0.0523598775598 ']",
     "output_type": "error",
     "traceback": [
      "\u001b[0;31m---------------------------------------------------------------------------\u001b[0m",
      "\u001b[0;31mOperationalError\u001b[0m                          Traceback (most recent call last)",
      "\u001b[0;32m~/soft/LSST3/stack/miniconda3-4.3.21-10a4fa6/DarwinX86/sqlalchemy/1.0.8.lsst3+4/lib/python/SQLAlchemy-1.0.8-py3.6-macosx-10.9-x86_64.egg/sqlalchemy/engine/base.py\u001b[0m in \u001b[0;36m_execute_context\u001b[0;34m(self, dialect, constructor, statement, parameters, *args)\u001b[0m\n\u001b[1;32m   1138\u001b[0m                         \u001b[0mparameters\u001b[0m\u001b[0;34m,\u001b[0m\u001b[0;34m\u001b[0m\u001b[0m\n\u001b[0;32m-> 1139\u001b[0;31m                         context)\n\u001b[0m\u001b[1;32m   1140\u001b[0m         \u001b[0;32mexcept\u001b[0m \u001b[0mException\u001b[0m \u001b[0;32mas\u001b[0m \u001b[0me\u001b[0m\u001b[0;34m:\u001b[0m\u001b[0;34m\u001b[0m\u001b[0m\n",
      "\u001b[0;32m~/soft/LSST3/stack/miniconda3-4.3.21-10a4fa6/DarwinX86/sqlalchemy/1.0.8.lsst3+4/lib/python/SQLAlchemy-1.0.8-py3.6-macosx-10.9-x86_64.egg/sqlalchemy/engine/default.py\u001b[0m in \u001b[0;36mdo_execute\u001b[0;34m(self, cursor, statement, parameters, context)\u001b[0m\n\u001b[1;32m    449\u001b[0m     \u001b[0;32mdef\u001b[0m \u001b[0mdo_execute\u001b[0m\u001b[0;34m(\u001b[0m\u001b[0mself\u001b[0m\u001b[0;34m,\u001b[0m \u001b[0mcursor\u001b[0m\u001b[0;34m,\u001b[0m \u001b[0mstatement\u001b[0m\u001b[0;34m,\u001b[0m \u001b[0mparameters\u001b[0m\u001b[0;34m,\u001b[0m \u001b[0mcontext\u001b[0m\u001b[0;34m=\u001b[0m\u001b[0;32mNone\u001b[0m\u001b[0;34m)\u001b[0m\u001b[0;34m:\u001b[0m\u001b[0;34m\u001b[0m\u001b[0m\n\u001b[0;32m--> 450\u001b[0;31m         \u001b[0mcursor\u001b[0m\u001b[0;34m.\u001b[0m\u001b[0mexecute\u001b[0m\u001b[0;34m(\u001b[0m\u001b[0mstatement\u001b[0m\u001b[0;34m,\u001b[0m \u001b[0mparameters\u001b[0m\u001b[0;34m)\u001b[0m\u001b[0;34m\u001b[0m\u001b[0m\n\u001b[0m\u001b[1;32m    451\u001b[0m \u001b[0;34m\u001b[0m\u001b[0m\n",
      "\u001b[0;31mOperationalError\u001b[0m: no such column: None",
      "\nThe above exception was the direct cause of the following exception:\n",
      "\u001b[0;31mOperationalError\u001b[0m                          Traceback (most recent call last)",
      "\u001b[0;32m<ipython-input-29-4c1a20e573aa>\u001b[0m in \u001b[0;36m<module>\u001b[0;34m()\u001b[0m\n\u001b[0;32m----> 1\u001b[0;31m \u001b[0msnphosimDirect\u001b[0m\u001b[0;34m.\u001b[0m\u001b[0mwrite_catalog\u001b[0m\u001b[0;34m(\u001b[0m\u001b[0;34m'testSNPhosim.txt'\u001b[0m\u001b[0;34m,\u001b[0m \u001b[0mchunk_size\u001b[0m\u001b[0;34m=\u001b[0m\u001b[0;36m100\u001b[0m\u001b[0;34m)\u001b[0m\u001b[0;34m\u001b[0m\u001b[0m\n\u001b[0m",
      "\u001b[0;32m~/soft/LSST3/stack/miniconda3-4.3.21-10a4fa6/DarwinX86/sims_catalogs/2.4.2.sims+1/python/lsst/sims/catalogs/definitions/InstanceCatalog.py\u001b[0m in \u001b[0;36mwrite_catalog\u001b[0;34m(self, filename, chunk_size, write_header, write_mode)\u001b[0m\n\u001b[1;32m    478\u001b[0m                               \u001b[0mwrite_mode\u001b[0m\u001b[0;34m=\u001b[0m\u001b[0mwrite_mode\u001b[0m\u001b[0;34m,\u001b[0m\u001b[0;34m\u001b[0m\u001b[0m\n\u001b[1;32m    479\u001b[0m                               \u001b[0mobs_metadata\u001b[0m\u001b[0;34m=\u001b[0m\u001b[0mself\u001b[0m\u001b[0;34m.\u001b[0m\u001b[0mobs_metadata\u001b[0m\u001b[0;34m,\u001b[0m\u001b[0;34m\u001b[0m\u001b[0m\n\u001b[0;32m--> 480\u001b[0;31m                               constraint=self.constraint)\n\u001b[0m\u001b[1;32m    481\u001b[0m \u001b[0;34m\u001b[0m\u001b[0m\n\u001b[1;32m    482\u001b[0m     def _query_and_write(self, filename, chunk_size=None, write_header=True,\n",
      "\u001b[0;32m~/soft/LSST3/stack/miniconda3-4.3.21-10a4fa6/DarwinX86/sims_catalogs/2.4.2.sims+1/python/lsst/sims/catalogs/definitions/InstanceCatalog.py\u001b[0m in \u001b[0;36m_query_and_write\u001b[0;34m(self, filename, chunk_size, write_header, write_mode, obs_metadata, constraint)\u001b[0m\n\u001b[1;32m    511\u001b[0m                                                  \u001b[0mobs_metadata\u001b[0m\u001b[0;34m=\u001b[0m\u001b[0mobs_metadata\u001b[0m\u001b[0;34m,\u001b[0m\u001b[0;34m\u001b[0m\u001b[0m\n\u001b[1;32m    512\u001b[0m                                                  \u001b[0mconstraint\u001b[0m\u001b[0;34m=\u001b[0m\u001b[0mconstraint\u001b[0m\u001b[0;34m,\u001b[0m\u001b[0;34m\u001b[0m\u001b[0m\n\u001b[0;32m--> 513\u001b[0;31m                                                  chunk_size=chunk_size)\n\u001b[0m\u001b[1;32m    514\u001b[0m \u001b[0;34m\u001b[0m\u001b[0m\n\u001b[1;32m    515\u001b[0m         \u001b[0;32mfor\u001b[0m \u001b[0mchunk\u001b[0m \u001b[0;32min\u001b[0m \u001b[0mquery_result\u001b[0m\u001b[0;34m:\u001b[0m\u001b[0;34m\u001b[0m\u001b[0m\n",
      "\u001b[0;32m~/soft/LSST3/stack/miniconda3-4.3.21-10a4fa6/DarwinX86/sims_catalogs/2.4.2.sims+1/python/lsst/sims/catalogs/db/dbConnection.py\u001b[0m in \u001b[0;36mquery_columns\u001b[0;34m(self, colnames, chunk_size, obs_metadata, constraint, limit)\u001b[0m\n\u001b[1;32m    851\u001b[0m             \u001b[0mquery\u001b[0m \u001b[0;34m=\u001b[0m \u001b[0mquery\u001b[0m\u001b[0;34m.\u001b[0m\u001b[0mlimit\u001b[0m\u001b[0;34m(\u001b[0m\u001b[0mlimit\u001b[0m\u001b[0;34m)\u001b[0m\u001b[0;34m\u001b[0m\u001b[0m\n\u001b[1;32m    852\u001b[0m \u001b[0;34m\u001b[0m\u001b[0m\n\u001b[0;32m--> 853\u001b[0;31m         \u001b[0;32mreturn\u001b[0m \u001b[0mChunkIterator\u001b[0m\u001b[0;34m(\u001b[0m\u001b[0mself\u001b[0m\u001b[0;34m,\u001b[0m \u001b[0mquery\u001b[0m\u001b[0;34m,\u001b[0m \u001b[0mchunk_size\u001b[0m\u001b[0;34m)\u001b[0m\u001b[0;34m\u001b[0m\u001b[0m\n\u001b[0m\u001b[1;32m    854\u001b[0m \u001b[0;34m\u001b[0m\u001b[0m\n\u001b[1;32m    855\u001b[0m \u001b[0msims_clean_up\u001b[0m\u001b[0;34m.\u001b[0m\u001b[0mtargets\u001b[0m\u001b[0;34m.\u001b[0m\u001b[0mappend\u001b[0m\u001b[0;34m(\u001b[0m\u001b[0mCatalogDBObject\u001b[0m\u001b[0;34m.\u001b[0m\u001b[0m_connection_cache\u001b[0m\u001b[0;34m)\u001b[0m\u001b[0;34m\u001b[0m\u001b[0m\n",
      "\u001b[0;32m~/soft/LSST3/stack/miniconda3-4.3.21-10a4fa6/DarwinX86/sims_catalogs/2.4.2.sims+1/python/lsst/sims/catalogs/db/dbConnection.py\u001b[0m in \u001b[0;36m__init__\u001b[0;34m(self, dbobj, query, chunk_size, arbitrarySQL)\u001b[0m\n\u001b[1;32m     76\u001b[0m     \u001b[0;32mdef\u001b[0m \u001b[0m__init__\u001b[0m\u001b[0;34m(\u001b[0m\u001b[0mself\u001b[0m\u001b[0;34m,\u001b[0m \u001b[0mdbobj\u001b[0m\u001b[0;34m,\u001b[0m \u001b[0mquery\u001b[0m\u001b[0;34m,\u001b[0m \u001b[0mchunk_size\u001b[0m\u001b[0;34m,\u001b[0m \u001b[0marbitrarySQL\u001b[0m \u001b[0;34m=\u001b[0m \u001b[0;32mFalse\u001b[0m\u001b[0;34m)\u001b[0m\u001b[0;34m:\u001b[0m\u001b[0;34m\u001b[0m\u001b[0m\n\u001b[1;32m     77\u001b[0m         \u001b[0mself\u001b[0m\u001b[0;34m.\u001b[0m\u001b[0mdbobj\u001b[0m \u001b[0;34m=\u001b[0m \u001b[0mdbobj\u001b[0m\u001b[0;34m\u001b[0m\u001b[0m\n\u001b[0;32m---> 78\u001b[0;31m         \u001b[0mself\u001b[0m\u001b[0;34m.\u001b[0m\u001b[0mexec_query\u001b[0m \u001b[0;34m=\u001b[0m \u001b[0mdbobj\u001b[0m\u001b[0;34m.\u001b[0m\u001b[0mconnection\u001b[0m\u001b[0;34m.\u001b[0m\u001b[0msession\u001b[0m\u001b[0;34m.\u001b[0m\u001b[0mexecute\u001b[0m\u001b[0;34m(\u001b[0m\u001b[0mquery\u001b[0m\u001b[0;34m)\u001b[0m\u001b[0;34m\u001b[0m\u001b[0m\n\u001b[0m\u001b[1;32m     79\u001b[0m         \u001b[0mself\u001b[0m\u001b[0;34m.\u001b[0m\u001b[0mchunk_size\u001b[0m \u001b[0;34m=\u001b[0m \u001b[0mchunk_size\u001b[0m\u001b[0;34m\u001b[0m\u001b[0m\n\u001b[1;32m     80\u001b[0m \u001b[0;34m\u001b[0m\u001b[0m\n",
      "\u001b[0;32m~/soft/LSST3/stack/miniconda3-4.3.21-10a4fa6/DarwinX86/sqlalchemy/1.0.8.lsst3+4/lib/python/SQLAlchemy-1.0.8-py3.6-macosx-10.9-x86_64.egg/sqlalchemy/orm/scoping.py\u001b[0m in \u001b[0;36mdo\u001b[0;34m(self, *args, **kwargs)\u001b[0m\n\u001b[1;32m    148\u001b[0m \u001b[0;32mdef\u001b[0m \u001b[0minstrument\u001b[0m\u001b[0;34m(\u001b[0m\u001b[0mname\u001b[0m\u001b[0;34m)\u001b[0m\u001b[0;34m:\u001b[0m\u001b[0;34m\u001b[0m\u001b[0m\n\u001b[1;32m    149\u001b[0m     \u001b[0;32mdef\u001b[0m \u001b[0mdo\u001b[0m\u001b[0;34m(\u001b[0m\u001b[0mself\u001b[0m\u001b[0;34m,\u001b[0m \u001b[0;34m*\u001b[0m\u001b[0margs\u001b[0m\u001b[0;34m,\u001b[0m \u001b[0;34m**\u001b[0m\u001b[0mkwargs\u001b[0m\u001b[0;34m)\u001b[0m\u001b[0;34m:\u001b[0m\u001b[0;34m\u001b[0m\u001b[0m\n\u001b[0;32m--> 150\u001b[0;31m         \u001b[0;32mreturn\u001b[0m \u001b[0mgetattr\u001b[0m\u001b[0;34m(\u001b[0m\u001b[0mself\u001b[0m\u001b[0;34m.\u001b[0m\u001b[0mregistry\u001b[0m\u001b[0;34m(\u001b[0m\u001b[0;34m)\u001b[0m\u001b[0;34m,\u001b[0m \u001b[0mname\u001b[0m\u001b[0;34m)\u001b[0m\u001b[0;34m(\u001b[0m\u001b[0;34m*\u001b[0m\u001b[0margs\u001b[0m\u001b[0;34m,\u001b[0m \u001b[0;34m**\u001b[0m\u001b[0mkwargs\u001b[0m\u001b[0;34m)\u001b[0m\u001b[0;34m\u001b[0m\u001b[0m\n\u001b[0m\u001b[1;32m    151\u001b[0m     \u001b[0;32mreturn\u001b[0m \u001b[0mdo\u001b[0m\u001b[0;34m\u001b[0m\u001b[0m\n\u001b[1;32m    152\u001b[0m \u001b[0;34m\u001b[0m\u001b[0m\n",
      "\u001b[0;32m~/soft/LSST3/stack/miniconda3-4.3.21-10a4fa6/DarwinX86/sqlalchemy/1.0.8.lsst3+4/lib/python/SQLAlchemy-1.0.8-py3.6-macosx-10.9-x86_64.egg/sqlalchemy/orm/session.py\u001b[0m in \u001b[0;36mexecute\u001b[0;34m(self, clause, params, mapper, bind, **kw)\u001b[0m\n\u001b[1;32m   1021\u001b[0m \u001b[0;34m\u001b[0m\u001b[0m\n\u001b[1;32m   1022\u001b[0m         return self._connection_for_bind(\n\u001b[0;32m-> 1023\u001b[0;31m             bind, close_with_result=True).execute(clause, params or {})\n\u001b[0m\u001b[1;32m   1024\u001b[0m \u001b[0;34m\u001b[0m\u001b[0m\n\u001b[1;32m   1025\u001b[0m     \u001b[0;32mdef\u001b[0m \u001b[0mscalar\u001b[0m\u001b[0;34m(\u001b[0m\u001b[0mself\u001b[0m\u001b[0;34m,\u001b[0m \u001b[0mclause\u001b[0m\u001b[0;34m,\u001b[0m \u001b[0mparams\u001b[0m\u001b[0;34m=\u001b[0m\u001b[0;32mNone\u001b[0m\u001b[0;34m,\u001b[0m \u001b[0mmapper\u001b[0m\u001b[0;34m=\u001b[0m\u001b[0;32mNone\u001b[0m\u001b[0;34m,\u001b[0m \u001b[0mbind\u001b[0m\u001b[0;34m=\u001b[0m\u001b[0;32mNone\u001b[0m\u001b[0;34m,\u001b[0m \u001b[0;34m**\u001b[0m\u001b[0mkw\u001b[0m\u001b[0;34m)\u001b[0m\u001b[0;34m:\u001b[0m\u001b[0;34m\u001b[0m\u001b[0m\n",
      "\u001b[0;32m~/soft/LSST3/stack/miniconda3-4.3.21-10a4fa6/DarwinX86/sqlalchemy/1.0.8.lsst3+4/lib/python/SQLAlchemy-1.0.8-py3.6-macosx-10.9-x86_64.egg/sqlalchemy/engine/base.py\u001b[0m in \u001b[0;36mexecute\u001b[0;34m(self, object, *multiparams, **params)\u001b[0m\n\u001b[1;32m    912\u001b[0m                 type(object))\n\u001b[1;32m    913\u001b[0m         \u001b[0;32melse\u001b[0m\u001b[0;34m:\u001b[0m\u001b[0;34m\u001b[0m\u001b[0m\n\u001b[0;32m--> 914\u001b[0;31m             \u001b[0;32mreturn\u001b[0m \u001b[0mmeth\u001b[0m\u001b[0;34m(\u001b[0m\u001b[0mself\u001b[0m\u001b[0;34m,\u001b[0m \u001b[0mmultiparams\u001b[0m\u001b[0;34m,\u001b[0m \u001b[0mparams\u001b[0m\u001b[0;34m)\u001b[0m\u001b[0;34m\u001b[0m\u001b[0m\n\u001b[0m\u001b[1;32m    915\u001b[0m \u001b[0;34m\u001b[0m\u001b[0m\n\u001b[1;32m    916\u001b[0m     \u001b[0;32mdef\u001b[0m \u001b[0m_execute_function\u001b[0m\u001b[0;34m(\u001b[0m\u001b[0mself\u001b[0m\u001b[0;34m,\u001b[0m \u001b[0mfunc\u001b[0m\u001b[0;34m,\u001b[0m \u001b[0mmultiparams\u001b[0m\u001b[0;34m,\u001b[0m \u001b[0mparams\u001b[0m\u001b[0;34m)\u001b[0m\u001b[0;34m:\u001b[0m\u001b[0;34m\u001b[0m\u001b[0m\n",
      "\u001b[0;32m~/soft/LSST3/stack/miniconda3-4.3.21-10a4fa6/DarwinX86/sqlalchemy/1.0.8.lsst3+4/lib/python/SQLAlchemy-1.0.8-py3.6-macosx-10.9-x86_64.egg/sqlalchemy/sql/elements.py\u001b[0m in \u001b[0;36m_execute_on_connection\u001b[0;34m(self, connection, multiparams, params)\u001b[0m\n\u001b[1;32m    321\u001b[0m \u001b[0;34m\u001b[0m\u001b[0m\n\u001b[1;32m    322\u001b[0m     \u001b[0;32mdef\u001b[0m \u001b[0m_execute_on_connection\u001b[0m\u001b[0;34m(\u001b[0m\u001b[0mself\u001b[0m\u001b[0;34m,\u001b[0m \u001b[0mconnection\u001b[0m\u001b[0;34m,\u001b[0m \u001b[0mmultiparams\u001b[0m\u001b[0;34m,\u001b[0m \u001b[0mparams\u001b[0m\u001b[0;34m)\u001b[0m\u001b[0;34m:\u001b[0m\u001b[0;34m\u001b[0m\u001b[0m\n\u001b[0;32m--> 323\u001b[0;31m         \u001b[0;32mreturn\u001b[0m \u001b[0mconnection\u001b[0m\u001b[0;34m.\u001b[0m\u001b[0m_execute_clauseelement\u001b[0m\u001b[0;34m(\u001b[0m\u001b[0mself\u001b[0m\u001b[0;34m,\u001b[0m \u001b[0mmultiparams\u001b[0m\u001b[0;34m,\u001b[0m \u001b[0mparams\u001b[0m\u001b[0;34m)\u001b[0m\u001b[0;34m\u001b[0m\u001b[0m\n\u001b[0m\u001b[1;32m    324\u001b[0m \u001b[0;34m\u001b[0m\u001b[0m\n\u001b[1;32m    325\u001b[0m     \u001b[0;32mdef\u001b[0m \u001b[0munique_params\u001b[0m\u001b[0;34m(\u001b[0m\u001b[0mself\u001b[0m\u001b[0;34m,\u001b[0m \u001b[0;34m*\u001b[0m\u001b[0moptionaldict\u001b[0m\u001b[0;34m,\u001b[0m \u001b[0;34m**\u001b[0m\u001b[0mkwargs\u001b[0m\u001b[0;34m)\u001b[0m\u001b[0;34m:\u001b[0m\u001b[0;34m\u001b[0m\u001b[0m\n",
      "\u001b[0;32m~/soft/LSST3/stack/miniconda3-4.3.21-10a4fa6/DarwinX86/sqlalchemy/1.0.8.lsst3+4/lib/python/SQLAlchemy-1.0.8-py3.6-macosx-10.9-x86_64.egg/sqlalchemy/engine/base.py\u001b[0m in \u001b[0;36m_execute_clauseelement\u001b[0;34m(self, elem, multiparams, params)\u001b[0m\n\u001b[1;32m   1008\u001b[0m             \u001b[0mcompiled_sql\u001b[0m\u001b[0;34m,\u001b[0m\u001b[0;34m\u001b[0m\u001b[0m\n\u001b[1;32m   1009\u001b[0m             \u001b[0mdistilled_params\u001b[0m\u001b[0;34m,\u001b[0m\u001b[0;34m\u001b[0m\u001b[0m\n\u001b[0;32m-> 1010\u001b[0;31m             \u001b[0mcompiled_sql\u001b[0m\u001b[0;34m,\u001b[0m \u001b[0mdistilled_params\u001b[0m\u001b[0;34m\u001b[0m\u001b[0m\n\u001b[0m\u001b[1;32m   1011\u001b[0m         )\n\u001b[1;32m   1012\u001b[0m         \u001b[0;32mif\u001b[0m \u001b[0mself\u001b[0m\u001b[0;34m.\u001b[0m\u001b[0m_has_events\u001b[0m \u001b[0;32mor\u001b[0m \u001b[0mself\u001b[0m\u001b[0;34m.\u001b[0m\u001b[0mengine\u001b[0m\u001b[0;34m.\u001b[0m\u001b[0m_has_events\u001b[0m\u001b[0;34m:\u001b[0m\u001b[0;34m\u001b[0m\u001b[0m\n",
      "\u001b[0;32m~/soft/LSST3/stack/miniconda3-4.3.21-10a4fa6/DarwinX86/sqlalchemy/1.0.8.lsst3+4/lib/python/SQLAlchemy-1.0.8-py3.6-macosx-10.9-x86_64.egg/sqlalchemy/engine/base.py\u001b[0m in \u001b[0;36m_execute_context\u001b[0;34m(self, dialect, constructor, statement, parameters, *args)\u001b[0m\n\u001b[1;32m   1144\u001b[0m                 \u001b[0mparameters\u001b[0m\u001b[0;34m,\u001b[0m\u001b[0;34m\u001b[0m\u001b[0m\n\u001b[1;32m   1145\u001b[0m                 \u001b[0mcursor\u001b[0m\u001b[0;34m,\u001b[0m\u001b[0;34m\u001b[0m\u001b[0m\n\u001b[0;32m-> 1146\u001b[0;31m                 context)\n\u001b[0m\u001b[1;32m   1147\u001b[0m \u001b[0;34m\u001b[0m\u001b[0m\n\u001b[1;32m   1148\u001b[0m         \u001b[0;32mif\u001b[0m \u001b[0mself\u001b[0m\u001b[0;34m.\u001b[0m\u001b[0m_has_events\u001b[0m \u001b[0;32mor\u001b[0m \u001b[0mself\u001b[0m\u001b[0;34m.\u001b[0m\u001b[0mengine\u001b[0m\u001b[0;34m.\u001b[0m\u001b[0m_has_events\u001b[0m\u001b[0;34m:\u001b[0m\u001b[0;34m\u001b[0m\u001b[0m\n",
      "\u001b[0;32m~/soft/LSST3/stack/miniconda3-4.3.21-10a4fa6/DarwinX86/sqlalchemy/1.0.8.lsst3+4/lib/python/SQLAlchemy-1.0.8-py3.6-macosx-10.9-x86_64.egg/sqlalchemy/engine/base.py\u001b[0m in \u001b[0;36m_handle_dbapi_exception\u001b[0;34m(self, e, statement, parameters, cursor, context)\u001b[0m\n\u001b[1;32m   1339\u001b[0m                 util.raise_from_cause(\n\u001b[1;32m   1340\u001b[0m                     \u001b[0msqlalchemy_exception\u001b[0m\u001b[0;34m,\u001b[0m\u001b[0;34m\u001b[0m\u001b[0m\n\u001b[0;32m-> 1341\u001b[0;31m                     \u001b[0mexc_info\u001b[0m\u001b[0;34m\u001b[0m\u001b[0m\n\u001b[0m\u001b[1;32m   1342\u001b[0m                 )\n\u001b[1;32m   1343\u001b[0m             \u001b[0;32melse\u001b[0m\u001b[0;34m:\u001b[0m\u001b[0;34m\u001b[0m\u001b[0m\n",
      "\u001b[0;32m~/soft/LSST3/stack/miniconda3-4.3.21-10a4fa6/DarwinX86/sqlalchemy/1.0.8.lsst3+4/lib/python/SQLAlchemy-1.0.8-py3.6-macosx-10.9-x86_64.egg/sqlalchemy/util/compat.py\u001b[0m in \u001b[0;36mraise_from_cause\u001b[0;34m(exception, exc_info)\u001b[0m\n\u001b[1;32m    186\u001b[0m             \u001b[0mexc_info\u001b[0m \u001b[0;34m=\u001b[0m \u001b[0msys\u001b[0m\u001b[0;34m.\u001b[0m\u001b[0mexc_info\u001b[0m\u001b[0;34m(\u001b[0m\u001b[0;34m)\u001b[0m\u001b[0;34m\u001b[0m\u001b[0m\n\u001b[1;32m    187\u001b[0m         \u001b[0mexc_type\u001b[0m\u001b[0;34m,\u001b[0m \u001b[0mexc_value\u001b[0m\u001b[0;34m,\u001b[0m \u001b[0mexc_tb\u001b[0m \u001b[0;34m=\u001b[0m \u001b[0mexc_info\u001b[0m\u001b[0;34m\u001b[0m\u001b[0m\n\u001b[0;32m--> 188\u001b[0;31m         \u001b[0mreraise\u001b[0m\u001b[0;34m(\u001b[0m\u001b[0mtype\u001b[0m\u001b[0;34m(\u001b[0m\u001b[0mexception\u001b[0m\u001b[0;34m)\u001b[0m\u001b[0;34m,\u001b[0m \u001b[0mexception\u001b[0m\u001b[0;34m,\u001b[0m \u001b[0mtb\u001b[0m\u001b[0;34m=\u001b[0m\u001b[0mexc_tb\u001b[0m\u001b[0;34m,\u001b[0m \u001b[0mcause\u001b[0m\u001b[0;34m=\u001b[0m\u001b[0mexc_value\u001b[0m\u001b[0;34m)\u001b[0m\u001b[0;34m\u001b[0m\u001b[0m\n\u001b[0m\u001b[1;32m    189\u001b[0m \u001b[0;32melse\u001b[0m\u001b[0;34m:\u001b[0m\u001b[0;34m\u001b[0m\u001b[0m\n\u001b[1;32m    190\u001b[0m     exec(\"def reraise(tp, value, tb=None, cause=None):\\n\"\n",
      "\u001b[0;32m~/soft/LSST3/stack/miniconda3-4.3.21-10a4fa6/DarwinX86/sqlalchemy/1.0.8.lsst3+4/lib/python/SQLAlchemy-1.0.8-py3.6-macosx-10.9-x86_64.egg/sqlalchemy/util/compat.py\u001b[0m in \u001b[0;36mreraise\u001b[0;34m(tp, value, tb, cause)\u001b[0m\n\u001b[1;32m    179\u001b[0m             \u001b[0mvalue\u001b[0m\u001b[0;34m.\u001b[0m\u001b[0m__cause__\u001b[0m \u001b[0;34m=\u001b[0m \u001b[0mcause\u001b[0m\u001b[0;34m\u001b[0m\u001b[0m\n\u001b[1;32m    180\u001b[0m         \u001b[0;32mif\u001b[0m \u001b[0mvalue\u001b[0m\u001b[0;34m.\u001b[0m\u001b[0m__traceback__\u001b[0m \u001b[0;32mis\u001b[0m \u001b[0;32mnot\u001b[0m \u001b[0mtb\u001b[0m\u001b[0;34m:\u001b[0m\u001b[0;34m\u001b[0m\u001b[0m\n\u001b[0;32m--> 181\u001b[0;31m             \u001b[0;32mraise\u001b[0m \u001b[0mvalue\u001b[0m\u001b[0;34m.\u001b[0m\u001b[0mwith_traceback\u001b[0m\u001b[0;34m(\u001b[0m\u001b[0mtb\u001b[0m\u001b[0;34m)\u001b[0m\u001b[0;34m\u001b[0m\u001b[0m\n\u001b[0m\u001b[1;32m    182\u001b[0m         \u001b[0;32mraise\u001b[0m \u001b[0mvalue\u001b[0m\u001b[0;34m\u001b[0m\u001b[0m\n\u001b[1;32m    183\u001b[0m \u001b[0;34m\u001b[0m\u001b[0m\n",
      "\u001b[0;32m~/soft/LSST3/stack/miniconda3-4.3.21-10a4fa6/DarwinX86/sqlalchemy/1.0.8.lsst3+4/lib/python/SQLAlchemy-1.0.8-py3.6-macosx-10.9-x86_64.egg/sqlalchemy/engine/base.py\u001b[0m in \u001b[0;36m_execute_context\u001b[0;34m(self, dialect, constructor, statement, parameters, *args)\u001b[0m\n\u001b[1;32m   1137\u001b[0m                         \u001b[0mstatement\u001b[0m\u001b[0;34m,\u001b[0m\u001b[0;34m\u001b[0m\u001b[0m\n\u001b[1;32m   1138\u001b[0m                         \u001b[0mparameters\u001b[0m\u001b[0;34m,\u001b[0m\u001b[0;34m\u001b[0m\u001b[0m\n\u001b[0;32m-> 1139\u001b[0;31m                         context)\n\u001b[0m\u001b[1;32m   1140\u001b[0m         \u001b[0;32mexcept\u001b[0m \u001b[0mException\u001b[0m \u001b[0;32mas\u001b[0m \u001b[0me\u001b[0m\u001b[0;34m:\u001b[0m\u001b[0;34m\u001b[0m\u001b[0m\n\u001b[1;32m   1141\u001b[0m             self._handle_dbapi_exception(\n",
      "\u001b[0;32m~/soft/LSST3/stack/miniconda3-4.3.21-10a4fa6/DarwinX86/sqlalchemy/1.0.8.lsst3+4/lib/python/SQLAlchemy-1.0.8-py3.6-macosx-10.9-x86_64.egg/sqlalchemy/engine/default.py\u001b[0m in \u001b[0;36mdo_execute\u001b[0;34m(self, cursor, statement, parameters, context)\u001b[0m\n\u001b[1;32m    448\u001b[0m \u001b[0;34m\u001b[0m\u001b[0m\n\u001b[1;32m    449\u001b[0m     \u001b[0;32mdef\u001b[0m \u001b[0mdo_execute\u001b[0m\u001b[0;34m(\u001b[0m\u001b[0mself\u001b[0m\u001b[0;34m,\u001b[0m \u001b[0mcursor\u001b[0m\u001b[0;34m,\u001b[0m \u001b[0mstatement\u001b[0m\u001b[0;34m,\u001b[0m \u001b[0mparameters\u001b[0m\u001b[0;34m,\u001b[0m \u001b[0mcontext\u001b[0m\u001b[0;34m=\u001b[0m\u001b[0;32mNone\u001b[0m\u001b[0;34m)\u001b[0m\u001b[0;34m:\u001b[0m\u001b[0;34m\u001b[0m\u001b[0m\n\u001b[0;32m--> 450\u001b[0;31m         \u001b[0mcursor\u001b[0m\u001b[0;34m.\u001b[0m\u001b[0mexecute\u001b[0m\u001b[0;34m(\u001b[0m\u001b[0mstatement\u001b[0m\u001b[0;34m,\u001b[0m \u001b[0mparameters\u001b[0m\u001b[0;34m)\u001b[0m\u001b[0;34m\u001b[0m\u001b[0m\n\u001b[0m\u001b[1;32m    451\u001b[0m \u001b[0;34m\u001b[0m\u001b[0m\n\u001b[1;32m    452\u001b[0m     \u001b[0;32mdef\u001b[0m \u001b[0mdo_execute_no_params\u001b[0m\u001b[0;34m(\u001b[0m\u001b[0mself\u001b[0m\u001b[0;34m,\u001b[0m \u001b[0mcursor\u001b[0m\u001b[0;34m,\u001b[0m \u001b[0mstatement\u001b[0m\u001b[0;34m,\u001b[0m \u001b[0mcontext\u001b[0m\u001b[0;34m=\u001b[0m\u001b[0;32mNone\u001b[0m\u001b[0;34m)\u001b[0m\u001b[0;34m:\u001b[0m\u001b[0;34m\u001b[0m\u001b[0m\n",
      "\u001b[0;31mOperationalError\u001b[0m: (sqlite3.OperationalError) no such column: None [SQL: 'SELECT \"SNwHosts\".id AS id, \"SNwHosts\".redshift AS redshift, \"SNwHosts\".\"Tx0\" AS \"Tx0\", \"SNwHosts\".\"Tx1\" AS \"Tx1\", \"SNwHosts\".\"Tt0\" AS \"Tt0\", \"SNwHosts\".\"decJ2000\" AS \"decJ2000\", \"SNwHosts\".\"raJ2000\" AS \"raJ2000\", \"SNwHosts\".\"Tc\" AS \"Tc\" \\nFROM \"SNwHosts\" \\nWHERE None between 46.247759 and 59.770518 and None between -30.438949 and -24.438949 and 2 * ASIN(SQRT( POWER(SIN(0.5*(None - -27.4389488088) * PI() / 180.0),2)+ COS(None * PI() / 180.0) * COS(-27.4389488088 * PI() / 180.0) * POWER(SIN(0.5 * (None - 53.009138473) * PI() / 180.0),2))) < 0.0523598775598 ']"
     ]
    }
   ],
   "source": [
    "snphosimDirect.write_catalog('testSNPhosim.txt', chunk_size=100)"
   ]
  },
  {
   "cell_type": "markdown",
   "metadata": {},
   "source": [
    "# Scratch "
   ]
  },
  {
   "cell_type": "code",
   "execution_count": null,
   "metadata": {},
   "outputs": [],
   "source": [
    "snphosim"
   ]
  },
  {
   "cell_type": "code",
   "execution_count": null,
   "metadata": {},
   "outputs": [],
   "source": [
    "sndb.show_mapped_columns()"
   ]
  },
  {
   "cell_type": "code",
   "execution_count": null,
   "metadata": {},
   "outputs": [],
   "source": [
    "class SNObj(PhoSimCatalogSN):\n",
    "    columns = [('snra', 'snra*PI()/180.'),\n",
    "               ('snra', 'sndec*PI()/180.'),\n",
    "               ('t0', 't0'),\n",
    "               ('x0', 'x0'),\n",
    "               ('x1', 'x1'),\n",
    "               ('c', 'c'),\n",
    "               ('snid', 'snid'),\n",
    "               ('redshift', 'z')]"
   ]
  },
  {
   "cell_type": "code",
   "execution_count": null,
   "metadata": {},
   "outputs": [],
   "source": []
  },
  {
   "cell_type": "code",
   "execution_count": null,
   "metadata": {},
   "outputs": [],
   "source": [
    "from twinklesCatalogDefs import TwinklesCatalogSN"
   ]
  },
  {
   "cell_type": "code",
   "execution_count": null,
   "metadata": {},
   "outputs": [],
   "source": [
    "snobj = TwinklesCatalogSN(db_obj=sndbobj, obs_metadata=obsmd)"
   ]
  },
  {
   "cell_type": "code",
   "execution_count": null,
   "metadata": {},
   "outputs": [],
   "source": [
    "sndbobj.execute_arbitrary('SELECT * FROM SNwHosts LIMIT 2')"
   ]
  },
  {
   "cell_type": "code",
   "execution_count": null,
   "metadata": {},
   "outputs": [],
   "source": [
    "snobj.write_catalog('phosimcatalog.txt')"
   ]
  },
  {
   "cell_type": "code",
   "execution_count": null,
   "metadata": {},
   "outputs": [],
   "source": [
    "type(fileDBObject)"
   ]
  },
  {
   "cell_type": "code",
   "execution_count": null,
   "metadata": {},
   "outputs": [],
   "source": [
    "type(SNObj)"
   ]
  },
  {
   "cell_type": "code",
   "execution_count": 26,
   "metadata": {},
   "outputs": [
    {
     "ename": "TypeError",
     "evalue": "__init__() missing 1 required positional argument: 'dataLocatorString'",
     "output_type": "error",
     "traceback": [
      "\u001b[0;31m---------------------------------------------------------------------------\u001b[0m",
      "\u001b[0;31mTypeError\u001b[0m                                 Traceback (most recent call last)",
      "\u001b[0;32m<ipython-input-26-2ae375c2e4ff>\u001b[0m in \u001b[0;36m<module>\u001b[0;34m()\u001b[0m\n\u001b[0;32m----> 1\u001b[0;31m \u001b[0mSNObj\u001b[0m\u001b[0;34m(\u001b[0m\u001b[0;34m)\u001b[0m\u001b[0;34m\u001b[0m\u001b[0m\n\u001b[0m",
      "\u001b[0;31mTypeError\u001b[0m: __init__() missing 1 required positional argument: 'dataLocatorString'"
     ]
    }
   ],
   "source": [
    "SNObj()"
   ]
  },
  {
   "cell_type": "code",
   "execution_count": null,
   "metadata": {},
   "outputs": [],
   "source": []
  }
 ],
 "metadata": {
  "kernelspec": {
   "display_name": "Python 3",
   "language": "python",
   "name": "python3"
  },
  "language_info": {
   "codemirror_mode": {
    "name": "ipython",
    "version": 3
   },
   "file_extension": ".py",
   "mimetype": "text/x-python",
   "name": "python",
   "nbconvert_exporter": "python",
   "pygments_lexer": "ipython3",
   "version": "3.6.2"
  }
 },
 "nbformat": 4,
 "nbformat_minor": 2
}
